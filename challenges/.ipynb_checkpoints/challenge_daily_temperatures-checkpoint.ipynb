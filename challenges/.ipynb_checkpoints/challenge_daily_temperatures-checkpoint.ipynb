{
 "cells": [
  {
   "cell_type": "code",
   "execution_count": 3,
   "id": "1d7ef489",
   "metadata": {},
   "outputs": [],
   "source": [
    "from pyspark.sql import SparkSession\n",
    "\n",
    "spark = SparkSession.builder.appName(\"ChallengeDailyTemperatures\").getOrCreate()"
   ]
  },
  {
   "cell_type": "code",
   "execution_count": 4,
   "id": "1779776a",
   "metadata": {},
   "outputs": [],
   "source": [
    "temps = [59, 57.2, 53.6, 55.4, 51.8, 53.6, 55.4]"
   ]
  },
  {
   "cell_type": "code",
   "execution_count": 6,
   "id": "bb9e754b",
   "metadata": {},
   "outputs": [],
   "source": [
    "temps_rdd = spark.sparkContext.parallelize(temps)"
   ]
  },
  {
   "cell_type": "code",
   "execution_count": null,
   "id": "abb77b65",
   "metadata": {},
   "outputs": [],
   "source": []
  }
 ],
 "metadata": {
  "kernelspec": {
   "display_name": "Python 3",
   "language": "python",
   "name": "python3"
  },
  "language_info": {
   "codemirror_mode": {
    "name": "ipython",
    "version": 3
   },
   "file_extension": ".py",
   "mimetype": "text/x-python",
   "name": "python",
   "nbconvert_exporter": "python",
   "pygments_lexer": "ipython3",
   "version": "3.9.1"
  }
 },
 "nbformat": 4,
 "nbformat_minor": 5
}
