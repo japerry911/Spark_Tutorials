{
 "cells": [
  {
   "cell_type": "code",
   "execution_count": 1,
   "metadata": {
    "collapsed": true,
    "pycharm": {
     "name": "#%%\n"
    }
   },
   "outputs": [],
   "source": [
    "from pyspark.sql import SparkSession\n",
    "from pyspark.sql.functions import (\n",
    "        col,\n",
    "        concat_ws,\n",
    "        from_unixtime,\n",
    "        month,\n",
    "        split,\n",
    "        unix_timestamp,\n",
    "        year\n",
    ")\n",
    "from pyspark.sql.types import FloatType, IntegerType, StringType, TimestampType"
   ]
  },
  {
   "cell_type": "code",
   "execution_count": 2,
   "outputs": [],
   "source": [
    "spark = SparkSession.builder.appName(\"ChallengePart2\").getOrCreate()"
   ],
   "metadata": {
    "collapsed": false,
    "pycharm": {
     "name": "#%%\n"
    }
   }
  },
  {
   "cell_type": "code",
   "execution_count": 3,
   "outputs": [],
   "source": [
    "file_path = \"./data/salesdata/*.csv\""
   ],
   "metadata": {
    "collapsed": false,
    "pycharm": {
     "name": "#%%\n"
    }
   }
  },
  {
   "cell_type": "code",
   "execution_count": 4,
   "outputs": [],
   "source": [
    "df = spark.read\\\n",
    "        .format(\"csv\")\\\n",
    "        .option(\"header\", \"true\")\\\n",
    "        .option(\"inferSchema\", \"true\")\\\n",
    "        .load(file_path)"
   ],
   "metadata": {
    "collapsed": false,
    "pycharm": {
     "name": "#%%\n"
    }
   }
  },
  {
   "cell_type": "code",
   "execution_count": 5,
   "outputs": [
    {
     "name": "stdout",
     "output_type": "stream",
     "text": [
      "+--------+--------------------------+----------------+----------+--------------+-----------------------------------------+\n",
      "|Order ID|Product                   |Quantity Ordered|Price Each|Order Date    |Purchase Address                         |\n",
      "+--------+--------------------------+----------------+----------+--------------+-----------------------------------------+\n",
      "|295665  |Macbook Pro Laptop        |1               |1700.0    |12/30/19 00:01|136 Church St, New York City, NY 10001   |\n",
      "|295666  |LG Washing Machine        |1               |600.0     |12/29/19 07:03|562 2nd St, New York City, NY 10001      |\n",
      "|295667  |USB-C Charging Cable      |1               |11.95     |12/12/19 18:21|277 Main St, New York City, NY 10001     |\n",
      "|295668  |27in FHD Monitor          |1               |149.99    |12/22/19 15:13|410 6th St, San Francisco, CA 94016      |\n",
      "|295669  |USB-C Charging Cable      |1               |11.95     |12/18/19 12:38|43 Hill St, Atlanta, GA 30301            |\n",
      "|295670  |AA Batteries (4-pack)     |1               |3.84      |12/31/19 22:58|200 Jefferson St, New York City, NY 10001|\n",
      "|295671  |USB-C Charging Cable      |1               |11.95     |12/16/19 15:10|928 12th St, Portland, OR 97035          |\n",
      "|295672  |USB-C Charging Cable      |2               |11.95     |12/13/19 09:29|813 Hickory St, Dallas, TX 75001         |\n",
      "|295673  |Bose SoundSport Headphones|1               |99.99     |12/15/19 23:26|718 Wilson St, Dallas, TX 75001          |\n",
      "|295674  |AAA Batteries (4-pack)    |4               |2.99      |12/28/19 11:51|77 7th St, Dallas, TX 75001              |\n",
      "+--------+--------------------------+----------------+----------+--------------+-----------------------------------------+\n",
      "only showing top 10 rows\n",
      "\n"
     ]
    }
   ],
   "source": [
    "df.show(10, truncate=False)"
   ],
   "metadata": {
    "collapsed": false,
    "pycharm": {
     "name": "#%%\n"
    }
   }
  },
  {
   "cell_type": "code",
   "execution_count": 6,
   "outputs": [
    {
     "data": {
      "text/plain": "186850"
     },
     "execution_count": 6,
     "metadata": {},
     "output_type": "execute_result"
    }
   ],
   "source": [
    "df.count()"
   ],
   "metadata": {
    "collapsed": false,
    "pycharm": {
     "name": "#%%\n"
    }
   }
  },
  {
   "cell_type": "markdown",
   "source": [
    "##### Remove Bad Records"
   ],
   "metadata": {
    "collapsed": false,
    "pycharm": {
     "name": "#%% md\n"
    }
   }
  },
  {
   "cell_type": "code",
   "execution_count": 7,
   "outputs": [
    {
     "name": "stdout",
     "output_type": "stream",
     "text": [
      "+--------+-------+----------------+----------+----------+----------------+\n",
      "|Order ID|Product|Quantity Ordered|Price Each|Order Date|Purchase Address|\n",
      "+--------+-------+----------------+----------+----------+----------------+\n",
      "|    null|Product|            null|      null|Order Date|Purchase Address|\n",
      "|    null|Product|            null|      null|Order Date|Purchase Address|\n",
      "|    null|Product|            null|      null|Order Date|Purchase Address|\n",
      "|    null|Product|            null|      null|Order Date|Purchase Address|\n",
      "|    null|Product|            null|      null|Order Date|Purchase Address|\n",
      "|    null|Product|            null|      null|Order Date|Purchase Address|\n",
      "|    null|Product|            null|      null|Order Date|Purchase Address|\n",
      "|    null|Product|            null|      null|Order Date|Purchase Address|\n",
      "|    null|Product|            null|      null|Order Date|Purchase Address|\n",
      "|    null|Product|            null|      null|Order Date|Purchase Address|\n",
      "+--------+-------+----------------+----------+----------+----------------+\n",
      "only showing top 10 rows\n",
      "\n"
     ]
    }
   ],
   "source": [
    "df.filter(col(\"Product\") == \"Product\").show(10)"
   ],
   "metadata": {
    "collapsed": false,
    "pycharm": {
     "name": "#%%\n"
    }
   }
  },
  {
   "cell_type": "code",
   "execution_count": 8,
   "outputs": [],
   "source": [
    "df_all_null_drop = df.na.drop(\"all\")"
   ],
   "metadata": {
    "collapsed": false,
    "pycharm": {
     "name": "#%%\n"
    }
   }
  },
  {
   "cell_type": "code",
   "execution_count": 9,
   "outputs": [
    {
     "data": {
      "text/plain": "186305"
     },
     "execution_count": 9,
     "metadata": {},
     "output_type": "execute_result"
    }
   ],
   "source": [
    "df_all_null_drop.count()"
   ],
   "metadata": {
    "collapsed": false,
    "pycharm": {
     "name": "#%%\n"
    }
   }
  },
  {
   "cell_type": "code",
   "execution_count": 10,
   "outputs": [
    {
     "name": "stdout",
     "output_type": "stream",
     "text": [
      "+--------+-------+----------------+----------+----------+----------------+\n",
      "|Order ID|Product|Quantity Ordered|Price Each|Order Date|Purchase Address|\n",
      "+--------+-------+----------------+----------+----------+----------------+\n",
      "|null    |Product|null            |null      |Order Date|Purchase Address|\n",
      "|null    |Product|null            |null      |Order Date|Purchase Address|\n",
      "|null    |Product|null            |null      |Order Date|Purchase Address|\n",
      "|null    |Product|null            |null      |Order Date|Purchase Address|\n",
      "|null    |Product|null            |null      |Order Date|Purchase Address|\n",
      "|null    |Product|null            |null      |Order Date|Purchase Address|\n",
      "|null    |Product|null            |null      |Order Date|Purchase Address|\n",
      "|null    |Product|null            |null      |Order Date|Purchase Address|\n",
      "|null    |Product|null            |null      |Order Date|Purchase Address|\n",
      "|null    |Product|null            |null      |Order Date|Purchase Address|\n",
      "+--------+-------+----------------+----------+----------+----------------+\n",
      "only showing top 10 rows\n",
      "\n"
     ]
    }
   ],
   "source": [
    "df_all_null_drop\\\n",
    "        .where(col(\"Product\") == \"Product\")\\\n",
    "        .show(10, truncate=False)"
   ],
   "metadata": {
    "collapsed": false,
    "pycharm": {
     "name": "#%%\n"
    }
   }
  },
  {
   "cell_type": "code",
   "execution_count": 11,
   "outputs": [
    {
     "name": "stdout",
     "output_type": "stream",
     "text": [
      "+--------+-------+----------------+----------+----------+----------------+\n",
      "|Order ID|Product|Quantity Ordered|Price Each|Order Date|Purchase Address|\n",
      "+--------+-------+----------------+----------+----------+----------------+\n",
      "+--------+-------+----------------+----------+----------+----------------+\n",
      "\n"
     ]
    }
   ],
   "source": [
    "df_cleaned_null_order_ids = df_all_null_drop.filter(col(\"Order ID\").isNull() != True)\n",
    "df_cleaned_null_order_ids\\\n",
    "        .where(col(\"Product\") == \"Product\")\\\n",
    "        .show(10, truncate=False)"
   ],
   "metadata": {
    "collapsed": false,
    "pycharm": {
     "name": "#%%\n"
    }
   }
  },
  {
   "cell_type": "code",
   "execution_count": 12,
   "outputs": [
    {
     "name": "stdout",
     "output_type": "stream",
     "text": [
      "+--------+--------------------------+----------------+----------+--------------+-----------------------------------------+\n",
      "|Order ID|Product                   |Quantity Ordered|Price Each|Order Date    |Purchase Address                         |\n",
      "+--------+--------------------------+----------------+----------+--------------+-----------------------------------------+\n",
      "|295665  |Macbook Pro Laptop        |1               |1700.0    |12/30/19 00:01|136 Church St, New York City, NY 10001   |\n",
      "|295666  |LG Washing Machine        |1               |600.0     |12/29/19 07:03|562 2nd St, New York City, NY 10001      |\n",
      "|295667  |USB-C Charging Cable      |1               |11.95     |12/12/19 18:21|277 Main St, New York City, NY 10001     |\n",
      "|295668  |27in FHD Monitor          |1               |149.99    |12/22/19 15:13|410 6th St, San Francisco, CA 94016      |\n",
      "|295669  |USB-C Charging Cable      |1               |11.95     |12/18/19 12:38|43 Hill St, Atlanta, GA 30301            |\n",
      "|295670  |AA Batteries (4-pack)     |1               |3.84      |12/31/19 22:58|200 Jefferson St, New York City, NY 10001|\n",
      "|295671  |USB-C Charging Cable      |1               |11.95     |12/16/19 15:10|928 12th St, Portland, OR 97035          |\n",
      "|295672  |USB-C Charging Cable      |2               |11.95     |12/13/19 09:29|813 Hickory St, Dallas, TX 75001         |\n",
      "|295673  |Bose SoundSport Headphones|1               |99.99     |12/15/19 23:26|718 Wilson St, Dallas, TX 75001          |\n",
      "|295674  |AAA Batteries (4-pack)    |4               |2.99      |12/28/19 11:51|77 7th St, Dallas, TX 75001              |\n",
      "+--------+--------------------------+----------------+----------+--------------+-----------------------------------------+\n",
      "only showing top 10 rows\n",
      "\n"
     ]
    }
   ],
   "source": [
    "df_cleaned_null_order_ids.show(10, truncate=False)"
   ],
   "metadata": {
    "collapsed": false,
    "pycharm": {
     "name": "#%%\n"
    }
   }
  },
  {
   "cell_type": "code",
   "execution_count": 13,
   "outputs": [
    {
     "data": {
      "text/plain": "185950"
     },
     "execution_count": 13,
     "metadata": {},
     "output_type": "execute_result"
    }
   ],
   "source": [
    "df_cleaned_null_order_ids.count()"
   ],
   "metadata": {
    "collapsed": false,
    "pycharm": {
     "name": "#%%\n"
    }
   }
  },
  {
   "cell_type": "code",
   "execution_count": 14,
   "outputs": [
    {
     "data": {
      "text/plain": "185686"
     },
     "execution_count": 14,
     "metadata": {},
     "output_type": "execute_result"
    }
   ],
   "source": [
    "distinct_df = df_cleaned_null_order_ids.distinct()\n",
    "distinct_df.count()"
   ],
   "metadata": {
    "collapsed": false,
    "pycharm": {
     "name": "#%%\n"
    }
   }
  },
  {
   "cell_type": "markdown",
   "source": [
    "##### Extract City and State from Address into New Columns"
   ],
   "metadata": {
    "collapsed": false,
    "pycharm": {
     "name": "#%% md\n"
    }
   }
  },
  {
   "cell_type": "code",
   "execution_count": 15,
   "outputs": [
    {
     "name": "stdout",
     "output_type": "stream",
     "text": [
      "+--------+------------------------+----------------+----------+--------------+----------------------------------------+-------------+-----+\n",
      "|Order ID|Product                 |Quantity Ordered|Price Each|Order Date    |Purchase Address                        |City         |State|\n",
      "+--------+------------------------+----------------+----------+--------------+----------------------------------------+-------------+-----+\n",
      "|295952  |Flatscreen TV           |1               |300.0     |12/23/19 12:55|403 Dogwood St, Seattle, WA 98101       |Seattle      |WA   |\n",
      "|296051  |Wired Headphones        |2               |11.99     |12/15/19 14:18|796 6th St, New York City, NY 10001     |New York City|NY   |\n",
      "|296357  |USB-C Charging Cable    |1               |11.95     |12/09/19 22:26|529 7th St, Atlanta, GA 30301           |Atlanta      |GA   |\n",
      "|296699  |34in Ultrawide Monitor  |1               |379.99    |12/09/19 10:24|129 Center St, Dallas, TX 75001         |Dallas       |TX   |\n",
      "|296829  |AA Batteries (4-pack)   |1               |3.84      |12/22/19 13:57|100 Cedar St, New York City, NY 10001   |New York City|NY   |\n",
      "|296913  |34in Ultrawide Monitor  |1               |379.99    |12/02/19 19:46|283 Elm St, Dallas, TX 75001            |Dallas       |TX   |\n",
      "|297009  |Macbook Pro Laptop      |1               |1700.0    |12/16/19 08:07|779 Maple St, San Francisco, CA 94016   |San Francisco|CA   |\n",
      "|297030  |Apple Airpods Headphones|1               |150.0     |12/22/19 14:14|558 Willow St, San Francisco, CA 94016  |San Francisco|CA   |\n",
      "|297389  |Flatscreen TV           |1               |300.0     |12/15/19 00:46|455 Lake St, San Francisco, CA 94016    |San Francisco|CA   |\n",
      "|297694  |Lightning Charging Cable|1               |14.95     |12/12/19 17:15|410 Chestnut St, New York City, NY 10001|New York City|NY   |\n",
      "+--------+------------------------+----------------+----------+--------------+----------------------------------------+-------------+-----+\n",
      "only showing top 10 rows\n",
      "\n"
     ]
    }
   ],
   "source": [
    "added_city_state = distinct_df\\\n",
    "        .withColumn(\"City\", split(col(\"Purchase Address\"), \", \")[1])\\\n",
    "        .withColumn(\"State\", split(col(\"Purchase Address\"), \", \")[2][0:2])\n",
    "added_city_state.show(10, truncate=False)"
   ],
   "metadata": {
    "collapsed": false,
    "pycharm": {
     "name": "#%%\n"
    }
   }
  },
  {
   "cell_type": "code",
   "execution_count": 16,
   "outputs": [
    {
     "name": "stdout",
     "output_type": "stream",
     "text": [
      "root\n",
      " |-- Order ID: integer (nullable = true)\n",
      " |-- Product: string (nullable = true)\n",
      " |-- Quantity Ordered: integer (nullable = true)\n",
      " |-- Price Each: double (nullable = true)\n",
      " |-- Order Date: string (nullable = true)\n",
      " |-- Purchase Address: string (nullable = true)\n",
      " |-- City: string (nullable = true)\n",
      " |-- State: string (nullable = true)\n",
      "\n"
     ]
    }
   ],
   "source": [
    "added_city_state.printSchema()"
   ],
   "metadata": {
    "collapsed": false,
    "pycharm": {
     "name": "#%%\n"
    }
   }
  },
  {
   "cell_type": "code",
   "execution_count": 17,
   "outputs": [
    {
     "name": "stdout",
     "output_type": "stream",
     "text": [
      "+--------+-------------+----------------+----------+--------------+--------------------+-------------+-----+\n",
      "|Order ID|      Product|Quantity Ordered|Price Each|    Order Date|    Purchase Address|         City|State|\n",
      "+--------+-------------+----------------+----------+--------------+--------------------+-------------+-----+\n",
      "|  297389|Flatscreen TV|               1|     300.0|12/15/19 00:46|455 Lake St, San ...|San Francisco|   CA|\n",
      "+--------+-------------+----------------+----------+--------------+--------------------+-------------+-----+\n",
      "\n"
     ]
    }
   ],
   "source": [
    "added_city_state.where(col(\"Order ID\") == 297389).show()"
   ],
   "metadata": {
    "collapsed": false,
    "pycharm": {
     "name": "#%%\n"
    }
   }
  },
  {
   "cell_type": "markdown",
   "source": [
    "##### Rename and Change DataTypes"
   ],
   "metadata": {
    "collapsed": false,
    "pycharm": {
     "name": "#%% md\n"
    }
   }
  },
  {
   "cell_type": "code",
   "execution_count": 18,
   "outputs": [
    {
     "name": "stdout",
     "output_type": "stream",
     "text": [
      "+-------+----------------------+--------+------+-------------------+-------------------------------------+-------------+-----+\n",
      "|OrderID|Product               |Quantity|Price |OrderDate          |StoreAddress                         |City         |State|\n",
      "+-------+----------------------+--------+------+-------------------+-------------------------------------+-------------+-----+\n",
      "|295952 |Flatscreen TV         |1       |300.0 |2019-12-23 12:55:00|403 Dogwood St, Seattle, WA 98101    |Seattle      |WA   |\n",
      "|296051 |Wired Headphones      |2       |11.99 |2019-12-15 14:18:00|796 6th St, New York City, NY 10001  |New York City|NY   |\n",
      "|296357 |USB-C Charging Cable  |1       |11.95 |2019-12-09 22:26:00|529 7th St, Atlanta, GA 30301        |Atlanta      |GA   |\n",
      "|296699 |34in Ultrawide Monitor|1       |379.99|2019-12-09 10:24:00|129 Center St, Dallas, TX 75001      |Dallas       |TX   |\n",
      "|296829 |AA Batteries (4-pack) |1       |3.84  |2019-12-22 13:57:00|100 Cedar St, New York City, NY 10001|New York City|NY   |\n",
      "+-------+----------------------+--------+------+-------------------+-------------------------------------+-------------+-----+\n",
      "only showing top 5 rows\n",
      "\n"
     ]
    }
   ],
   "source": [
    "updated_df = added_city_state\\\n",
    "        .withColumnRenamed(\"Order ID\", \"OrderID\")\\\n",
    "        .withColumn(\"OrderID\", col(\"OrderID\").cast(IntegerType()))\\\n",
    "        .withColumnRenamed(\"Quantity Ordered\", \"Quantity\")\\\n",
    "        .withColumn(\"Quantity\", col(\"Quantity\").cast(IntegerType()))\\\n",
    "        .withColumnRenamed(\"Order Date\", \"OrderDate\")\\\n",
    "        .withColumn(\n",
    "                \"OrderDate\",\n",
    "                from_unixtime(\n",
    "                        unix_timestamp(col(\"OrderDate\"), \"MM/dd/yy HH:mm\")\n",
    "                ).alias(\"OrderDate\")\n",
    "        )\\\n",
    "        .withColumnRenamed(\"Purchase Address\", \"StoreAddress\")\\\n",
    "        .withColumn(\"StoreAddress\", col(\"StoreAddress\").cast(StringType()))\\\n",
    "        .withColumnRenamed(\"Price Each\", \"Price\")\\\n",
    "        .withColumn(\"Price\", col(\"Price\").cast(FloatType()))\n",
    "updated_df.show(5, truncate=False)"
   ],
   "metadata": {
    "collapsed": false,
    "pycharm": {
     "name": "#%%\n"
    }
   }
  },
  {
   "cell_type": "code",
   "execution_count": 19,
   "outputs": [
    {
     "name": "stdout",
     "output_type": "stream",
     "text": [
      "+-------+-------+--------+-----+---------+------------+----+-----+\n",
      "|OrderID|Product|Quantity|Price|OrderDate|StoreAddress|City|State|\n",
      "+-------+-------+--------+-----+---------+------------+----+-----+\n",
      "+-------+-------+--------+-----+---------+------------+----+-----+\n",
      "\n"
     ]
    }
   ],
   "source": [
    "updated_df.where(col(\"OrderDate\").isNull() == True).show(truncate=False)"
   ],
   "metadata": {
    "collapsed": false,
    "pycharm": {
     "name": "#%%\n"
    }
   }
  },
  {
   "cell_type": "code",
   "execution_count": 20,
   "outputs": [
    {
     "name": "stdout",
     "output_type": "stream",
     "text": [
      "root\n",
      " |-- OrderID: integer (nullable = true)\n",
      " |-- Product: string (nullable = true)\n",
      " |-- Quantity: integer (nullable = true)\n",
      " |-- Price: float (nullable = true)\n",
      " |-- OrderDate: string (nullable = true)\n",
      " |-- StoreAddress: string (nullable = true)\n",
      " |-- City: string (nullable = true)\n",
      " |-- State: string (nullable = true)\n",
      "\n"
     ]
    }
   ],
   "source": [
    "updated_df.printSchema()"
   ],
   "metadata": {
    "collapsed": false,
    "pycharm": {
     "name": "#%%\n"
    }
   }
  },
  {
   "cell_type": "markdown",
   "source": [
    "##### Add New Columns: ReportYear and Month"
   ],
   "metadata": {
    "collapsed": false,
    "pycharm": {
     "name": "#%% md\n"
    }
   }
  },
  {
   "cell_type": "code",
   "execution_count": 21,
   "outputs": [
    {
     "name": "stdout",
     "output_type": "stream",
     "text": [
      "root\n",
      " |-- OrderID: integer (nullable = true)\n",
      " |-- Product: string (nullable = true)\n",
      " |-- Quantity: integer (nullable = true)\n",
      " |-- Price: float (nullable = true)\n",
      " |-- OrderDate: string (nullable = true)\n",
      " |-- StoreAddress: string (nullable = true)\n",
      " |-- City: string (nullable = true)\n",
      " |-- State: string (nullable = true)\n",
      " |-- ReportYear: integer (nullable = true)\n",
      " |-- Month: integer (nullable = true)\n",
      "\n"
     ]
    }
   ],
   "source": [
    "updated_df_month_year = updated_df\\\n",
    "        .withColumn(\"ReportYear\", year(col(\"OrderDate\")))\\\n",
    "        .withColumn(\"Month\", month(col(\"OrderDate\")))\n",
    "updated_df_month_year.printSchema()"
   ],
   "metadata": {
    "collapsed": false,
    "pycharm": {
     "name": "#%%\n"
    }
   }
  },
  {
   "cell_type": "code",
   "execution_count": 22,
   "outputs": [
    {
     "name": "stdout",
     "output_type": "stream",
     "text": [
      "+-------+--------------------+--------+------+-------------------+--------------------+-------------+-----+----------+-----+\n",
      "|OrderID|             Product|Quantity| Price|          OrderDate|        StoreAddress|         City|State|ReportYear|Month|\n",
      "+-------+--------------------+--------+------+-------------------+--------------------+-------------+-----+----------+-----+\n",
      "| 295952|       Flatscreen TV|       1| 300.0|2019-12-23 12:55:00|403 Dogwood St, S...|      Seattle|   WA|      2019|   12|\n",
      "| 296051|    Wired Headphones|       2| 11.99|2019-12-15 14:18:00|796 6th St, New Y...|New York City|   NY|      2019|   12|\n",
      "| 296357|USB-C Charging Cable|       1| 11.95|2019-12-09 22:26:00|529 7th St, Atlan...|      Atlanta|   GA|      2019|   12|\n",
      "| 296699|34in Ultrawide Mo...|       1|379.99|2019-12-09 10:24:00|129 Center St, Da...|       Dallas|   TX|      2019|   12|\n",
      "| 296829|AA Batteries (4-p...|       1|  3.84|2019-12-22 13:57:00|100 Cedar St, New...|New York City|   NY|      2019|   12|\n",
      "+-------+--------------------+--------+------+-------------------+--------------------+-------------+-----+----------+-----+\n",
      "only showing top 5 rows\n",
      "\n"
     ]
    }
   ],
   "source": [
    "updated_df_month_year.show(5)"
   ],
   "metadata": {
    "collapsed": false,
    "pycharm": {
     "name": "#%%\n"
    }
   }
  },
  {
   "cell_type": "code",
   "execution_count": 23,
   "outputs": [
    {
     "data": {
      "text/plain": "185686"
     },
     "execution_count": 23,
     "metadata": {},
     "output_type": "execute_result"
    }
   ],
   "source": [
    "updated_df_month_year.count()"
   ],
   "metadata": {
    "collapsed": false,
    "pycharm": {
     "name": "#%%\n"
    }
   }
  },
  {
   "cell_type": "markdown",
   "source": [
    "##### Find and Remove All Rows with Any Columns"
   ],
   "metadata": {
    "collapsed": false,
    "pycharm": {
     "name": "#%% md\n"
    }
   }
  },
  {
   "cell_type": "code",
   "execution_count": 24,
   "outputs": [
    {
     "data": {
      "text/plain": "185686"
     },
     "execution_count": 24,
     "metadata": {},
     "output_type": "execute_result"
    }
   ],
   "source": [
    "almost_final_df = updated_df_month_year.na.drop(\"any\")\n",
    "almost_final_df.count()"
   ],
   "metadata": {
    "collapsed": false,
    "pycharm": {
     "name": "#%%\n"
    }
   }
  },
  {
   "cell_type": "markdown",
   "source": [
    "##### Write Final DataFrame to Parquet"
   ],
   "metadata": {
    "collapsed": false,
    "pycharm": {
     "name": "#%% md\n"
    }
   }
  },
  {
   "cell_type": "code",
   "execution_count": 25,
   "outputs": [
    {
     "name": "stdout",
     "output_type": "stream",
     "text": [
      "+-------+--------------------+--------+------+-------------------+--------------------+-------------+-----+----------+-----+\n",
      "|OrderID|             Product|Quantity| Price|          OrderDate|        StoreAddress|         City|State|ReportYear|Month|\n",
      "+-------+--------------------+--------+------+-------------------+--------------------+-------------+-----+----------+-----+\n",
      "| 295952|       Flatscreen TV|       1| 300.0|2019-12-23 12:55:00|403 Dogwood St, S...|      Seattle|   WA|      2019|   12|\n",
      "| 296051|    Wired Headphones|       2| 11.99|2019-12-15 14:18:00|796 6th St, New Y...|New York City|   NY|      2019|   12|\n",
      "| 296357|USB-C Charging Cable|       1| 11.95|2019-12-09 22:26:00|529 7th St, Atlan...|      Atlanta|   GA|      2019|   12|\n",
      "| 296699|34in Ultrawide Mo...|       1|379.99|2019-12-09 10:24:00|129 Center St, Da...|       Dallas|   TX|      2019|   12|\n",
      "| 296829|AA Batteries (4-p...|       1|  3.84|2019-12-22 13:57:00|100 Cedar St, New...|New York City|   NY|      2019|   12|\n",
      "| 296913|34in Ultrawide Mo...|       1|379.99|2019-12-02 19:46:00|283 Elm St, Dalla...|       Dallas|   TX|      2019|   12|\n",
      "| 297009|  Macbook Pro Laptop|       1|1700.0|2019-12-16 08:07:00|779 Maple St, San...|San Francisco|   CA|      2019|   12|\n",
      "| 297030|Apple Airpods Hea...|       1| 150.0|2019-12-22 14:14:00|558 Willow St, Sa...|San Francisco|   CA|      2019|   12|\n",
      "| 297389|       Flatscreen TV|       1| 300.0|2019-12-15 00:46:00|455 Lake St, San ...|San Francisco|   CA|      2019|   12|\n",
      "| 297694|Lightning Chargin...|       1| 14.95|2019-12-12 17:15:00|410 Chestnut St, ...|New York City|   NY|      2019|   12|\n",
      "+-------+--------------------+--------+------+-------------------+--------------------+-------------+-----+----------+-----+\n",
      "only showing top 10 rows\n",
      "\n"
     ]
    }
   ],
   "source": [
    "final_df = almost_final_df.select(\"OrderID\", \"Product\", \"Quantity\", \"Price\", \"OrderDate\", \"StoreAddress\",\n",
    "                \"City\", \"State\", \"ReportYear\", \"Month\")\n",
    "final_df.show(10)"
   ],
   "metadata": {
    "collapsed": false,
    "pycharm": {
     "name": "#%%\n"
    }
   }
  },
  {
   "cell_type": "code",
   "execution_count": 27,
   "outputs": [],
   "source": [
    "output_path = \"./data/output/sales\"\n",
    "final_df.write.mode(\"overwrite\").partitionBy(\"ReportYear\", \"Month\").parquet(output_path)"
   ],
   "metadata": {
    "collapsed": false,
    "pycharm": {
     "name": "#%%\n"
    }
   }
  },
  {
   "cell_type": "code",
   "execution_count": null,
   "outputs": [],
   "source": [],
   "metadata": {
    "collapsed": false,
    "pycharm": {
     "name": "#%%\n"
    }
   }
  }
 ],
 "metadata": {
  "kernelspec": {
   "display_name": "Python 3",
   "language": "python",
   "name": "python3"
  },
  "language_info": {
   "codemirror_mode": {
    "name": "ipython",
    "version": 2
   },
   "file_extension": ".py",
   "mimetype": "text/x-python",
   "name": "python",
   "nbconvert_exporter": "python",
   "pygments_lexer": "ipython2",
   "version": "2.7.6"
  }
 },
 "nbformat": 4,
 "nbformat_minor": 0
}