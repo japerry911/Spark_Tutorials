{
 "cells": [
  {
   "cell_type": "markdown",
   "metadata": {
    "collapsed": true,
    "pycharm": {
     "name": "#%% md\n"
    }
   },
   "source": [
    "##### Read 2019 Sales Data from Parquet Directory"
   ]
  },
  {
   "cell_type": "code",
   "execution_count": 46,
   "outputs": [],
   "source": [
    "from pyspark.sql import SparkSession\n",
    "from pyspark.sql.functions import col, count, date_format, expr, sum\n",
    "from pyspark.sql.types import FloatType, IntegerType"
   ],
   "metadata": {
    "collapsed": false,
    "pycharm": {
     "name": "#%%\n"
    }
   }
  },
  {
   "cell_type": "code",
   "execution_count": 3,
   "outputs": [],
   "source": [
    "spark = SparkSession.builder.appName(\"Challenge_3\").getOrCreate()"
   ],
   "metadata": {
    "collapsed": false,
    "pycharm": {
     "name": "#%%\n"
    }
   }
  },
  {
   "cell_type": "code",
   "execution_count": 4,
   "outputs": [
    {
     "data": {
      "text/plain": "pyspark.sql.session.SparkSession"
     },
     "execution_count": 4,
     "metadata": {},
     "output_type": "execute_result"
    }
   ],
   "source": [
    "type(spark)"
   ],
   "metadata": {
    "collapsed": false,
    "pycharm": {
     "name": "#%%\n"
    }
   }
  },
  {
   "cell_type": "code",
   "execution_count": 6,
   "outputs": [
    {
     "name": "stdout",
     "output_type": "stream",
     "text": [
      "+-------+--------------------------+--------+------+-------------------+--------------------------------------+-------------+-----+----------+-----+\n",
      "|OrderID|Product                   |Quantity|Price |OrderDate          |StoreAddress                          |City         |State|ReportYear|Month|\n",
      "+-------+--------------------------+--------+------+-------------------+--------------------------------------+-------------+-----+----------+-----+\n",
      "|296174 |27in FHD Monitor          |1       |149.99|2019-12-29 09:38:00|982 Cherry St, Portland, OR 97035     |Portland     |OR   |2019      |12   |\n",
      "|296176 |Wired Headphones          |1       |11.99 |2019-12-11 17:56:00|893 Cedar St, San Francisco, CA 94016 |San Francisco|CA   |2019      |12   |\n",
      "|296475 |27in 4K Gaming Monitor    |1       |389.99|2019-12-27 12:57:00|309 South St, Los Angeles, CA 90001   |Los Angeles  |CA   |2019      |12   |\n",
      "|297038 |Apple Airpods Headphones  |1       |150.0 |2019-12-28 20:47:00|778 Park St, New York City, NY 10001  |New York City|NY   |2019      |12   |\n",
      "|297142 |iPhone                    |1       |700.0 |2019-12-26 13:29:00|638 Forest St, Dallas, TX 75001       |Dallas       |TX   |2019      |12   |\n",
      "|297342 |USB-C Charging Cable      |1       |11.95 |2019-12-17 01:57:00|871 Cherry St, San Francisco, CA 94016|San Francisco|CA   |2019      |12   |\n",
      "|297695 |Bose SoundSport Headphones|1       |99.99 |2019-12-08 20:37:00|244 6th St, Atlanta, GA 30301         |Atlanta      |GA   |2019      |12   |\n",
      "|297902 |Wired Headphones          |1       |11.99 |2019-12-01 10:31:00|466 2nd St, Austin, TX 73301          |Austin       |TX   |2019      |12   |\n",
      "|297992 |LG Dryer                  |1       |600.0 |2019-12-12 00:04:00|427 Lake St, Atlanta, GA 30301        |Atlanta      |GA   |2019      |12   |\n",
      "|298194 |Lightning Charging Cable  |1       |14.95 |2019-12-16 19:13:00|593 2nd St, San Francisco, CA 94016   |San Francisco|CA   |2019      |12   |\n",
      "+-------+--------------------------+--------+------+-------------------+--------------------------------------+-------------+-----+----------+-----+\n",
      "only showing top 10 rows\n",
      "\n"
     ]
    }
   ],
   "source": [
    "file_path = \"./output/sales/\"\n",
    "\n",
    "sales_data_df = spark.read.parquet(file_path)\n",
    "\n",
    "sales_data_df.show(10, truncate=False)"
   ],
   "metadata": {
    "collapsed": false,
    "pycharm": {
     "name": "#%%\n"
    }
   }
  },
  {
   "cell_type": "code",
   "execution_count": 7,
   "outputs": [
    {
     "data": {
      "text/plain": "185686"
     },
     "execution_count": 7,
     "metadata": {},
     "output_type": "execute_result"
    }
   ],
   "source": [
    "sales_data_df.count()"
   ],
   "metadata": {
    "collapsed": false,
    "pycharm": {
     "name": "#%%\n"
    }
   }
  },
  {
   "cell_type": "markdown",
   "source": [
    "##### Question 1: What was the best month in terms of sales?"
   ],
   "metadata": {
    "collapsed": false,
    "pycharm": {
     "name": "#%% md\n"
    }
   }
  },
  {
   "cell_type": "code",
   "execution_count": 26,
   "outputs": [
    {
     "name": "stdout",
     "output_type": "stream",
     "text": [
      "+-----+------------------+\n",
      "|Month|GrandTotalSales   |\n",
      "+-----+------------------+\n",
      "|12   |4608295.6761312485|\n",
      "|1    |1821413.1513473988|\n",
      "|6    |2576280.137305975 |\n",
      "|3    |2804973.335673094 |\n",
      "|5    |3150616.21493268  |\n",
      "+-----+------------------+\n",
      "only showing top 5 rows\n",
      "\n"
     ]
    }
   ],
   "source": [
    "sales_data_df.withColumn(\"TotalSales\", expr(\"Price * Quantity\"))\\\n",
    "            .groupBy(\"Month\")\\\n",
    "            .agg(sum(\"TotalSales\").alias(\"GrandTotalSales\"))\\\n",
    "            .show(5, truncate=False)"
   ],
   "metadata": {
    "collapsed": false,
    "pycharm": {
     "name": "#%%\n"
    }
   }
  },
  {
   "cell_type": "code",
   "execution_count": 12,
   "outputs": [
    {
     "name": "stdout",
     "output_type": "stream",
     "text": [
      "root\n",
      " |-- OrderID: integer (nullable = true)\n",
      " |-- Product: string (nullable = true)\n",
      " |-- Quantity: integer (nullable = true)\n",
      " |-- Price: float (nullable = true)\n",
      " |-- OrderDate: string (nullable = true)\n",
      " |-- StoreAddress: string (nullable = true)\n",
      " |-- City: string (nullable = true)\n",
      " |-- State: string (nullable = true)\n",
      " |-- ReportYear: integer (nullable = true)\n",
      " |-- Month: integer (nullable = true)\n",
      "\n"
     ]
    }
   ],
   "source": [
    "sales_data_df.printSchema()"
   ],
   "metadata": {
    "collapsed": false,
    "pycharm": {
     "name": "#%%\n"
    }
   }
  },
  {
   "cell_type": "code",
   "execution_count": 20,
   "outputs": [
    {
     "name": "stdout",
     "output_type": "stream",
     "text": [
      "+-----+------------+\n",
      "|Month|count(Month)|\n",
      "+-----+------------+\n",
      "|12   |24944       |\n",
      "|1    |9699        |\n",
      "|6    |13535       |\n",
      "|3    |15128       |\n",
      "|5    |16552       |\n",
      "|9    |11603       |\n",
      "|4    |18257       |\n",
      "|8    |11943       |\n",
      "|7    |14275       |\n",
      "|10   |20249       |\n",
      "|11   |17544       |\n",
      "|2    |11957       |\n",
      "+-----+------------+\n",
      "\n"
     ]
    }
   ],
   "source": [
    "sales_data_df.groupBy(\"Month\").agg(count(\"Month\")).show(truncate=False)"
   ],
   "metadata": {
    "collapsed": false,
    "pycharm": {
     "name": "#%%\n"
    }
   }
  },
  {
   "cell_type": "markdown",
   "source": [
    "- December is best month in terms of sales."
   ],
   "metadata": {
    "collapsed": false,
    "pycharm": {
     "name": "#%% md\n"
    }
   }
  },
  {
   "cell_type": "markdown",
   "source": [
    "##### What City Actually Sold the Most Products?"
   ],
   "metadata": {
    "collapsed": false,
    "pycharm": {
     "name": "#%% md\n"
    }
   }
  },
  {
   "cell_type": "code",
   "execution_count": 24,
   "outputs": [
    {
     "name": "stdout",
     "output_type": "stream",
     "text": [
      "+-------------+-----------+\n",
      "|City         |SumQuantity|\n",
      "+-------------+-----------+\n",
      "|San Francisco|50169      |\n",
      "|Los Angeles  |33247      |\n",
      "|New York City|27903      |\n",
      "|Boston       |22494      |\n",
      "|Dallas       |16707      |\n",
      "+-------------+-----------+\n",
      "only showing top 5 rows\n",
      "\n"
     ]
    }
   ],
   "source": [
    "sales_data_df.groupBy(\"City\")\\\n",
    "            .agg(sum(\"Quantity\").alias(\"SumQuantity\"))\\\n",
    "            .orderBy(\"SumQuantity\", ascending=False)\\\n",
    "            .show(5, truncate=False)"
   ],
   "metadata": {
    "collapsed": false,
    "pycharm": {
     "name": "#%%\n"
    }
   }
  },
  {
   "cell_type": "markdown",
   "source": [
    "- San Francisco sold the most products"
   ],
   "metadata": {
    "collapsed": false,
    "pycharm": {
     "name": "#%% md\n"
    }
   }
  },
  {
   "cell_type": "markdown",
   "source": [
    "##### What time should we display advertisements to maximize the likelihood of customers buying products?"
   ],
   "metadata": {
    "collapsed": false,
    "pycharm": {
     "name": "#%% md\n"
    }
   }
  },
  {
   "cell_type": "code",
   "execution_count": 35,
   "outputs": [
    {
     "name": "stdout",
     "output_type": "stream",
     "text": [
      "+-------+------------------------+--------+------+-------------------+-------------------------------------+-------------+-----+----------+-----+----+----------+\n",
      "|OrderID|Product                 |Quantity|Price |OrderDate          |StoreAddress                         |City         |State|ReportYear|Month|hour|TotalSales|\n",
      "+-------+------------------------+--------+------+-------------------+-------------------------------------+-------------+-----+----------+-----+----+----------+\n",
      "|296174 |27in FHD Monitor        |1       |149.99|2019-12-29 09:38:00|982 Cherry St, Portland, OR 97035    |Portland     |OR   |2019      |12   |09  |149.99    |\n",
      "|296176 |Wired Headphones        |1       |11.99 |2019-12-11 17:56:00|893 Cedar St, San Francisco, CA 94016|San Francisco|CA   |2019      |12   |17  |11.99     |\n",
      "|296475 |27in 4K Gaming Monitor  |1       |389.99|2019-12-27 12:57:00|309 South St, Los Angeles, CA 90001  |Los Angeles  |CA   |2019      |12   |12  |389.99    |\n",
      "|297038 |Apple Airpods Headphones|1       |150.0 |2019-12-28 20:47:00|778 Park St, New York City, NY 10001 |New York City|NY   |2019      |12   |20  |150.0     |\n",
      "|297142 |iPhone                  |1       |700.0 |2019-12-26 13:29:00|638 Forest St, Dallas, TX 75001      |Dallas       |TX   |2019      |12   |13  |700.0     |\n",
      "+-------+------------------------+--------+------+-------------------+-------------------------------------+-------------+-----+----------+-----+----+----------+\n",
      "only showing top 5 rows\n",
      "\n"
     ]
    }
   ],
   "source": [],
   "metadata": {
    "collapsed": false,
    "pycharm": {
     "name": "#%%\n"
    }
   }
  },
  {
   "cell_type": "code",
   "execution_count": 53,
   "outputs": [
    {
     "name": "stdout",
     "output_type": "stream",
     "text": [
      "+-----------------+------------------+\n",
      "|CAST(hour AS INT)|sum(TotalSales)   |\n",
      "+-----------------+------------------+\n",
      "|12               |2314359.8384149075|\n",
      "|22               |1606243.8415923119|\n",
      "|1                |460563.8978149891 |\n",
      "|13               |2152369.9689331055|\n",
      "|16               |1902523.1909103394|\n",
      "+-----------------+------------------+\n",
      "only showing top 5 rows\n",
      "\n"
     ]
    }
   ],
   "source": [
    "updated_sales_data_df = sales_data_df.withColumn(\"hour\", date_format(\"OrderDate\", \"HH\"))\\\n",
    "                                    .withColumn(\"TotalSales\", expr(\"Price * Quantity\").cast(FloatType()))\n",
    "\n",
    "updated_sales_data_df.groupBy(col(\"hour\").cast(IntegerType()))\\\n",
    "                    .agg(sum(col(\"TotalSales\")))\\\n",
    "                    .show(5, truncate=False)"
   ],
   "metadata": {
    "collapsed": false,
    "pycharm": {
     "name": "#%%\n"
    }
   }
  },
  {
   "cell_type": "markdown",
   "source": [
    "- 12 O'Clock"
   ],
   "metadata": {
    "collapsed": false,
    "pycharm": {
     "name": "#%% md\n"
    }
   },
   "outputs": [
    {
     "ename": "SyntaxError",
     "evalue": "invalid syntax (<ipython-input-54-f7f237915369>, line 1)",
     "output_type": "error",
     "traceback": [
      "\u001B[0;36m  File \u001B[0;32m\"<ipython-input-54-f7f237915369>\"\u001B[0;36m, line \u001B[0;32m1\u001B[0m\n\u001B[0;31m    - 12 O Clock\u001B[0m\n\u001B[0m         ^\u001B[0m\n\u001B[0;31mSyntaxError\u001B[0m\u001B[0;31m:\u001B[0m invalid syntax\n"
     ]
    }
   ],
   "execution_count": 54
  },
  {
   "cell_type": "markdown",
   "source": [
    "##### What products are often sold together in the state \"NY\"?"
   ],
   "metadata": {
    "collapsed": false,
    "pycharm": {
     "name": "#%% md\n"
    }
   }
  },
  {
   "cell_type": "code",
   "execution_count": 55,
   "outputs": [
    {
     "name": "stdout",
     "output_type": "stream",
     "text": [
      "root\n",
      " |-- OrderID: integer (nullable = true)\n",
      " |-- Product: string (nullable = true)\n",
      " |-- Quantity: integer (nullable = true)\n",
      " |-- Price: float (nullable = true)\n",
      " |-- OrderDate: string (nullable = true)\n",
      " |-- StoreAddress: string (nullable = true)\n",
      " |-- City: string (nullable = true)\n",
      " |-- State: string (nullable = true)\n",
      " |-- ReportYear: integer (nullable = true)\n",
      " |-- Month: integer (nullable = true)\n",
      "\n"
     ]
    }
   ],
   "source": [
    "sales_data_df.printSchema()"
   ],
   "metadata": {
    "collapsed": false,
    "pycharm": {
     "name": "#%%\n"
    }
   }
  },
  {
   "cell_type": "code",
   "execution_count": 56,
   "outputs": [
    {
     "data": {
      "text/plain": "185686"
     },
     "execution_count": 56,
     "metadata": {},
     "output_type": "execute_result"
    }
   ],
   "source": [
    "sales_data_df.select(\"OrderID\").count()"
   ],
   "metadata": {
    "collapsed": false,
    "pycharm": {
     "name": "#%%\n"
    }
   }
  },
  {
   "cell_type": "code",
   "execution_count": 57,
   "outputs": [
    {
     "data": {
      "text/plain": "178437"
     },
     "execution_count": 57,
     "metadata": {},
     "output_type": "execute_result"
    }
   ],
   "source": [
    "sales_data_df.select(\"OrderID\").distinct().count()"
   ],
   "metadata": {
    "collapsed": false,
    "pycharm": {
     "name": "#%%\n"
    }
   }
  },
  {
   "cell_type": "code",
   "execution_count": null,
   "outputs": [],
   "source": [
    "updated_sales_data_df2 = sales_data_df.groupBy"
   ],
   "metadata": {
    "collapsed": false,
    "pycharm": {
     "name": "#%%\n"
    }
   }
  }
 ],
 "metadata": {
  "kernelspec": {
   "display_name": "Python 3",
   "language": "python",
   "name": "python3"
  },
  "language_info": {
   "codemirror_mode": {
    "name": "ipython",
    "version": 2
   },
   "file_extension": ".py",
   "mimetype": "text/x-python",
   "name": "python",
   "nbconvert_exporter": "python",
   "pygments_lexer": "ipython2",
   "version": "2.7.6"
  }
 },
 "nbformat": 4,
 "nbformat_minor": 0
}