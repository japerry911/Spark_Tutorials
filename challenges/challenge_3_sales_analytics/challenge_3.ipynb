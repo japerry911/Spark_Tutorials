{
 "cells": [
  {
   "cell_type": "markdown",
   "metadata": {
    "collapsed": true,
    "pycharm": {
     "name": "#%% md\n"
    }
   },
   "source": [
    "##### Read 2019 Sales Data from Parquet Directory"
   ]
  },
  {
   "cell_type": "code",
   "execution_count": 165,
   "outputs": [],
   "source": [
    "import matplotlib.pyplot as plt\n",
    "from pyspark.sql import SparkSession\n",
    "from pyspark.sql.functions import col, collect_list, count, date_format, expr, round, size, sum\n",
    "from pyspark.sql.types import FloatType, IntegerType\n",
    "import seaborn as sns"
   ],
   "metadata": {
    "collapsed": false,
    "pycharm": {
     "name": "#%%\n"
    }
   }
  },
  {
   "cell_type": "code",
   "execution_count": 124,
   "outputs": [],
   "source": [
    "spark = SparkSession.builder.appName(\"Challenge_3\").getOrCreate()"
   ],
   "metadata": {
    "collapsed": false,
    "pycharm": {
     "name": "#%%\n"
    }
   }
  },
  {
   "cell_type": "code",
   "execution_count": 125,
   "outputs": [
    {
     "data": {
      "text/plain": "pyspark.sql.session.SparkSession"
     },
     "execution_count": 125,
     "metadata": {},
     "output_type": "execute_result"
    }
   ],
   "source": [
    "type(spark)"
   ],
   "metadata": {
    "collapsed": false,
    "pycharm": {
     "name": "#%%\n"
    }
   }
  },
  {
   "cell_type": "code",
   "execution_count": 126,
   "outputs": [
    {
     "name": "stdout",
     "output_type": "stream",
     "text": [
      "+-------+--------------------------+--------+------+-------------------+--------------------------------------+-------------+-----+----------+-----+\n",
      "|OrderID|Product                   |Quantity|Price |OrderDate          |StoreAddress                          |City         |State|ReportYear|Month|\n",
      "+-------+--------------------------+--------+------+-------------------+--------------------------------------+-------------+-----+----------+-----+\n",
      "|296174 |27in FHD Monitor          |1       |149.99|2019-12-29 09:38:00|982 Cherry St, Portland, OR 97035     |Portland     |OR   |2019      |12   |\n",
      "|296176 |Wired Headphones          |1       |11.99 |2019-12-11 17:56:00|893 Cedar St, San Francisco, CA 94016 |San Francisco|CA   |2019      |12   |\n",
      "|296475 |27in 4K Gaming Monitor    |1       |389.99|2019-12-27 12:57:00|309 South St, Los Angeles, CA 90001   |Los Angeles  |CA   |2019      |12   |\n",
      "|297038 |Apple Airpods Headphones  |1       |150.0 |2019-12-28 20:47:00|778 Park St, New York City, NY 10001  |New York City|NY   |2019      |12   |\n",
      "|297142 |iPhone                    |1       |700.0 |2019-12-26 13:29:00|638 Forest St, Dallas, TX 75001       |Dallas       |TX   |2019      |12   |\n",
      "|297342 |USB-C Charging Cable      |1       |11.95 |2019-12-17 01:57:00|871 Cherry St, San Francisco, CA 94016|San Francisco|CA   |2019      |12   |\n",
      "|297695 |Bose SoundSport Headphones|1       |99.99 |2019-12-08 20:37:00|244 6th St, Atlanta, GA 30301         |Atlanta      |GA   |2019      |12   |\n",
      "|297902 |Wired Headphones          |1       |11.99 |2019-12-01 10:31:00|466 2nd St, Austin, TX 73301          |Austin       |TX   |2019      |12   |\n",
      "|297992 |LG Dryer                  |1       |600.0 |2019-12-12 00:04:00|427 Lake St, Atlanta, GA 30301        |Atlanta      |GA   |2019      |12   |\n",
      "|298194 |Lightning Charging Cable  |1       |14.95 |2019-12-16 19:13:00|593 2nd St, San Francisco, CA 94016   |San Francisco|CA   |2019      |12   |\n",
      "+-------+--------------------------+--------+------+-------------------+--------------------------------------+-------------+-----+----------+-----+\n",
      "only showing top 10 rows\n",
      "\n"
     ]
    }
   ],
   "source": [
    "file_path = \"./output/sales/\"\n",
    "\n",
    "sales_data_df = spark.read.parquet(file_path)\n",
    "\n",
    "sales_data_df.show(10, truncate=False)"
   ],
   "metadata": {
    "collapsed": false,
    "pycharm": {
     "name": "#%%\n"
    }
   }
  },
  {
   "cell_type": "code",
   "execution_count": 127,
   "outputs": [
    {
     "data": {
      "text/plain": "185686"
     },
     "execution_count": 127,
     "metadata": {},
     "output_type": "execute_result"
    }
   ],
   "source": [
    "sales_data_df.count()"
   ],
   "metadata": {
    "collapsed": false,
    "pycharm": {
     "name": "#%%\n"
    }
   }
  },
  {
   "cell_type": "markdown",
   "source": [
    "##### Question 1: What was the best month in terms of sales?"
   ],
   "metadata": {
    "collapsed": false,
    "pycharm": {
     "name": "#%% md\n"
    }
   }
  },
  {
   "cell_type": "code",
   "execution_count": 128,
   "outputs": [
    {
     "name": "stdout",
     "output_type": "stream",
     "text": [
      "+-----+------------------+\n",
      "|Month|GrandTotalSales   |\n",
      "+-----+------------------+\n",
      "|12   |4608295.6761312485|\n",
      "|1    |1821413.1513473988|\n",
      "|6    |2576280.137305975 |\n",
      "|3    |2804973.335673094 |\n",
      "|5    |3150616.21493268  |\n",
      "+-----+------------------+\n",
      "only showing top 5 rows\n",
      "\n"
     ]
    }
   ],
   "source": [
    "sales_data_df.withColumn(\"TotalSales\", expr(\"Price * Quantity\"))\\\n",
    "            .groupBy(\"Month\")\\\n",
    "            .agg(sum(\"TotalSales\").alias(\"GrandTotalSales\"))\\\n",
    "            .show(5, truncate=False)"
   ],
   "metadata": {
    "collapsed": false,
    "pycharm": {
     "name": "#%%\n"
    }
   }
  },
  {
   "cell_type": "code",
   "execution_count": 129,
   "outputs": [
    {
     "name": "stdout",
     "output_type": "stream",
     "text": [
      "root\n",
      " |-- OrderID: integer (nullable = true)\n",
      " |-- Product: string (nullable = true)\n",
      " |-- Quantity: integer (nullable = true)\n",
      " |-- Price: float (nullable = true)\n",
      " |-- OrderDate: string (nullable = true)\n",
      " |-- StoreAddress: string (nullable = true)\n",
      " |-- City: string (nullable = true)\n",
      " |-- State: string (nullable = true)\n",
      " |-- ReportYear: integer (nullable = true)\n",
      " |-- Month: integer (nullable = true)\n",
      "\n"
     ]
    }
   ],
   "source": [
    "sales_data_df.printSchema()"
   ],
   "metadata": {
    "collapsed": false,
    "pycharm": {
     "name": "#%%\n"
    }
   }
  },
  {
   "cell_type": "code",
   "execution_count": 130,
   "outputs": [
    {
     "name": "stdout",
     "output_type": "stream",
     "text": [
      "+-----+------------+\n",
      "|Month|count(Month)|\n",
      "+-----+------------+\n",
      "|12   |24944       |\n",
      "|1    |9699        |\n",
      "|6    |13535       |\n",
      "|3    |15128       |\n",
      "|5    |16552       |\n",
      "|9    |11603       |\n",
      "|4    |18257       |\n",
      "|8    |11943       |\n",
      "|7    |14275       |\n",
      "|10   |20249       |\n",
      "|11   |17544       |\n",
      "|2    |11957       |\n",
      "+-----+------------+\n",
      "\n"
     ]
    }
   ],
   "source": [
    "sales_data_df.groupBy(\"Month\").agg(count(\"Month\")).show(truncate=False)"
   ],
   "metadata": {
    "collapsed": false,
    "pycharm": {
     "name": "#%%\n"
    }
   }
  },
  {
   "cell_type": "code",
   "execution_count": 131,
   "outputs": [],
   "source": [
    "sales_q1_df = sales_data_df.select(\n",
    "    col(\"OrderID\"),\n",
    "    col(\"Month\"),\n",
    "    col(\"Price\"),\n",
    "    col(\"Quantity\"),\n",
    "    expr(\"Price * Quantity\").alias(\"Sales\"))"
   ],
   "metadata": {
    "collapsed": false,
    "pycharm": {
     "name": "#%%\n"
    }
   }
  },
  {
   "cell_type": "code",
   "execution_count": 132,
   "outputs": [
    {
     "name": "stdout",
     "output_type": "stream",
     "text": [
      "+-------+-----+------+--------+------+\n",
      "|OrderID|Month|Price |Quantity|Sales |\n",
      "+-------+-----+------+--------+------+\n",
      "|296174 |12   |149.99|1       |149.99|\n",
      "|296176 |12   |11.99 |1       |11.99 |\n",
      "|296475 |12   |389.99|1       |389.99|\n",
      "|297038 |12   |150.0 |1       |150.0 |\n",
      "|297142 |12   |700.0 |1       |700.0 |\n",
      "|297342 |12   |11.95 |1       |11.95 |\n",
      "|297695 |12   |99.99 |1       |99.99 |\n",
      "|297902 |12   |11.99 |1       |11.99 |\n",
      "|297992 |12   |600.0 |1       |600.0 |\n",
      "|298194 |12   |14.95 |1       |14.95 |\n",
      "+-------+-----+------+--------+------+\n",
      "only showing top 10 rows\n",
      "\n"
     ]
    }
   ],
   "source": [
    "sales_q1_df.show(10, truncate=False)"
   ],
   "metadata": {
    "collapsed": false,
    "pycharm": {
     "name": "#%%\n"
    }
   }
  },
  {
   "cell_type": "code",
   "execution_count": 133,
   "outputs": [],
   "source": [
    "sales_q1_df = sales_q1_df.groupBy(\"Month\")\\\n",
    "                        .agg(round(sum(\"Sales\"), 2).alias(\"TotalSales\"))\\\n",
    "                        .orderBy(\"TotalSales\", ascending=False)"
   ],
   "metadata": {
    "collapsed": false,
    "pycharm": {
     "name": "#%%\n"
    }
   }
  },
  {
   "cell_type": "code",
   "execution_count": 134,
   "outputs": [
    {
     "name": "stdout",
     "output_type": "stream",
     "text": [
      "+-----+----------+\n",
      "|Month|TotalSales|\n",
      "+-----+----------+\n",
      "|12   |4608295.68|\n",
      "|10   |3734777.84|\n",
      "|4    |3389217.96|\n",
      "|11   |3197875.03|\n",
      "|5    |3150616.21|\n",
      "|3    |2804973.34|\n",
      "|7    |2646461.31|\n",
      "|6    |2576280.14|\n",
      "|8    |2241083.36|\n",
      "|2    |2200078.07|\n",
      "+-----+----------+\n",
      "only showing top 10 rows\n",
      "\n"
     ]
    }
   ],
   "source": [
    "sales_q1_df.show(10, truncate=False)"
   ],
   "metadata": {
    "collapsed": false,
    "pycharm": {
     "name": "#%%\n"
    }
   }
  },
  {
   "cell_type": "code",
   "execution_count": 135,
   "outputs": [],
   "source": [
    "pd_sales_q1 = sales_q1_df.orderBy(\"Month\", ascending=False).toPandas()"
   ],
   "metadata": {
    "collapsed": false,
    "pycharm": {
     "name": "#%%\n"
    }
   }
  },
  {
   "cell_type": "code",
   "execution_count": 136,
   "outputs": [
    {
     "data": {
      "text/plain": "    Month  TotalSales\n0      12  4608295.68\n1      11  3197875.03\n2      10  3734777.84\n3       9  2094465.68\n4       8  2241083.36\n5       7  2646461.31\n6       6  2576280.14\n7       5  3150616.21\n8       4  3389217.96\n9       3  2804973.34\n10      2  2200078.07\n11      1  1821413.15",
      "text/html": "<div>\n<style scoped>\n    .dataframe tbody tr th:only-of-type {\n        vertical-align: middle;\n    }\n\n    .dataframe tbody tr th {\n        vertical-align: top;\n    }\n\n    .dataframe thead th {\n        text-align: right;\n    }\n</style>\n<table border=\"1\" class=\"dataframe\">\n  <thead>\n    <tr style=\"text-align: right;\">\n      <th></th>\n      <th>Month</th>\n      <th>TotalSales</th>\n    </tr>\n  </thead>\n  <tbody>\n    <tr>\n      <th>0</th>\n      <td>12</td>\n      <td>4608295.68</td>\n    </tr>\n    <tr>\n      <th>1</th>\n      <td>11</td>\n      <td>3197875.03</td>\n    </tr>\n    <tr>\n      <th>2</th>\n      <td>10</td>\n      <td>3734777.84</td>\n    </tr>\n    <tr>\n      <th>3</th>\n      <td>9</td>\n      <td>2094465.68</td>\n    </tr>\n    <tr>\n      <th>4</th>\n      <td>8</td>\n      <td>2241083.36</td>\n    </tr>\n    <tr>\n      <th>5</th>\n      <td>7</td>\n      <td>2646461.31</td>\n    </tr>\n    <tr>\n      <th>6</th>\n      <td>6</td>\n      <td>2576280.14</td>\n    </tr>\n    <tr>\n      <th>7</th>\n      <td>5</td>\n      <td>3150616.21</td>\n    </tr>\n    <tr>\n      <th>8</th>\n      <td>4</td>\n      <td>3389217.96</td>\n    </tr>\n    <tr>\n      <th>9</th>\n      <td>3</td>\n      <td>2804973.34</td>\n    </tr>\n    <tr>\n      <th>10</th>\n      <td>2</td>\n      <td>2200078.07</td>\n    </tr>\n    <tr>\n      <th>11</th>\n      <td>1</td>\n      <td>1821413.15</td>\n    </tr>\n  </tbody>\n</table>\n</div>"
     },
     "execution_count": 136,
     "metadata": {},
     "output_type": "execute_result"
    }
   ],
   "source": [
    "pd_sales_q1"
   ],
   "metadata": {
    "collapsed": false,
    "pycharm": {
     "name": "#%%\n"
    }
   }
  },
  {
   "cell_type": "code",
   "execution_count": 137,
   "outputs": [
    {
     "data": {
      "text/plain": "<Figure size 720x432 with 1 Axes>",
      "image/png": "[encoded data removed]"
     },
     "metadata": {},
     "output_type": "display_data"
    }
   ],
   "source": [
    "plt.figure(figsize=(10, 6))\n",
    "plt.ticklabel_format(useOffset=False, style=\"plain\")\n",
    "sns.set_theme(style=\"whitegrid\")\n",
    "sns.barplot(x=\"Month\", y=\"TotalSales\", data=pd_sales_q1).set_title(\"Total Sales per Month\")\n",
    "plt.ylabel(\"Total Sales\")\n",
    "plt.show()"
   ],
   "metadata": {
    "collapsed": false,
    "pycharm": {
     "name": "#%%\n"
    }
   }
  },
  {
   "cell_type": "markdown",
   "source": [
    "- December is best month in terms of sales."
   ],
   "metadata": {
    "collapsed": false,
    "pycharm": {
     "name": "#%% md\n"
    }
   }
  },
  {
   "cell_type": "markdown",
   "source": [
    "##### What City Actually Sold the Most Products?"
   ],
   "metadata": {
    "collapsed": false,
    "pycharm": {
     "name": "#%% md\n"
    }
   }
  },
  {
   "cell_type": "code",
   "execution_count": 138,
   "outputs": [
    {
     "name": "stdout",
     "output_type": "stream",
     "text": [
      "+-------------+-----------+\n",
      "|City         |SumQuantity|\n",
      "+-------------+-----------+\n",
      "|San Francisco|50169      |\n",
      "|Los Angeles  |33247      |\n",
      "|New York City|27903      |\n",
      "|Boston       |22494      |\n",
      "|Dallas       |16707      |\n",
      "+-------------+-----------+\n",
      "only showing top 5 rows\n",
      "\n"
     ]
    }
   ],
   "source": [
    "sales_data_df.groupBy(\"City\")\\\n",
    "            .agg(sum(\"Quantity\").alias(\"SumQuantity\"))\\\n",
    "            .orderBy(\"SumQuantity\", ascending=False)\\\n",
    "            .show(5, truncate=False)"
   ],
   "metadata": {
    "collapsed": false,
    "pycharm": {
     "name": "#%%\n"
    }
   }
  },
  {
   "cell_type": "code",
   "execution_count": 139,
   "outputs": [
    {
     "name": "stdout",
     "output_type": "stream",
     "text": [
      "+-------+--------+-------------+\n",
      "|OrderID|Quantity|City         |\n",
      "+-------+--------+-------------+\n",
      "|296174 |1       |Portland     |\n",
      "|296176 |1       |San Francisco|\n",
      "|296475 |1       |Los Angeles  |\n",
      "|297038 |1       |New York City|\n",
      "|297142 |1       |Dallas       |\n",
      "|297342 |1       |San Francisco|\n",
      "|297695 |1       |Atlanta      |\n",
      "|297902 |1       |Austin       |\n",
      "|297992 |1       |Atlanta      |\n",
      "|298194 |1       |San Francisco|\n",
      "|298348 |1       |Los Angeles  |\n",
      "|298394 |1       |Seattle      |\n",
      "|298541 |1       |Los Angeles  |\n",
      "|298552 |1       |Los Angeles  |\n",
      "|298644 |1       |San Francisco|\n",
      "|298695 |3       |Atlanta      |\n",
      "|299271 |1       |Atlanta      |\n",
      "|299798 |1       |New York City|\n",
      "|299965 |1       |Los Angeles  |\n",
      "|299981 |1       |Portland     |\n",
      "+-------+--------+-------------+\n",
      "only showing top 20 rows\n",
      "\n"
     ]
    }
   ],
   "source": [
    "sales_data_df.select(\"OrderID\", \"Quantity\", \"City\").show(truncate=False)"
   ],
   "metadata": {
    "collapsed": false,
    "pycharm": {
     "name": "#%%\n"
    }
   }
  },
  {
   "cell_type": "code",
   "execution_count": 140,
   "outputs": [],
   "source": [
    "sales_q2_df = sales_data_df.groupBy(\"City\")\\\n",
    "                        .agg(sum(\"Quantity\").alias(\"TotalProducts\"))\\\n",
    "                        .orderBy(\"TotalProducts\", ascending=False)"
   ],
   "metadata": {
    "collapsed": false,
    "pycharm": {
     "name": "#%%\n"
    }
   }
  },
  {
   "cell_type": "code",
   "execution_count": 141,
   "outputs": [
    {
     "name": "stdout",
     "output_type": "stream",
     "text": [
      "+-------------+-------------+\n",
      "|City         |TotalProducts|\n",
      "+-------------+-------------+\n",
      "|San Francisco|50169        |\n",
      "|Los Angeles  |33247        |\n",
      "|New York City|27903        |\n",
      "|Boston       |22494        |\n",
      "|Dallas       |16707        |\n",
      "|Atlanta      |16584        |\n",
      "|Seattle      |16534        |\n",
      "|Portland     |14037        |\n",
      "|Austin       |11137        |\n",
      "+-------------+-------------+\n",
      "\n"
     ]
    }
   ],
   "source": [
    "sales_q2_df.show(10, truncate=False)"
   ],
   "metadata": {
    "collapsed": false,
    "pycharm": {
     "name": "#%%\n"
    }
   }
  },
  {
   "cell_type": "markdown",
   "source": [
    "- San Francisco sold the most products"
   ],
   "metadata": {
    "collapsed": false,
    "pycharm": {
     "name": "#%% md\n"
    }
   }
  },
  {
   "cell_type": "code",
   "execution_count": 147,
   "outputs": [],
   "source": [
    "pd_sales_q2 = sales_q2_df.toPandas()"
   ],
   "metadata": {
    "collapsed": false,
    "pycharm": {
     "name": "#%%\n"
    }
   }
  },
  {
   "cell_type": "code",
   "execution_count": 148,
   "outputs": [
    {
     "data": {
      "text/plain": "            City  TotalProducts\n0  San Francisco          50169\n1    Los Angeles          33247\n2  New York City          27903\n3         Boston          22494\n4         Dallas          16707\n5        Atlanta          16584\n6        Seattle          16534\n7       Portland          14037\n8         Austin          11137",
      "text/html": "<div>\n<style scoped>\n    .dataframe tbody tr th:only-of-type {\n        vertical-align: middle;\n    }\n\n    .dataframe tbody tr th {\n        vertical-align: top;\n    }\n\n    .dataframe thead th {\n        text-align: right;\n    }\n</style>\n<table border=\"1\" class=\"dataframe\">\n  <thead>\n    <tr style=\"text-align: right;\">\n      <th></th>\n      <th>City</th>\n      <th>TotalProducts</th>\n    </tr>\n  </thead>\n  <tbody>\n    <tr>\n      <th>0</th>\n      <td>San Francisco</td>\n      <td>50169</td>\n    </tr>\n    <tr>\n      <th>1</th>\n      <td>Los Angeles</td>\n      <td>33247</td>\n    </tr>\n    <tr>\n      <th>2</th>\n      <td>New York City</td>\n      <td>27903</td>\n    </tr>\n    <tr>\n      <th>3</th>\n      <td>Boston</td>\n      <td>22494</td>\n    </tr>\n    <tr>\n      <th>4</th>\n      <td>Dallas</td>\n      <td>16707</td>\n    </tr>\n    <tr>\n      <th>5</th>\n      <td>Atlanta</td>\n      <td>16584</td>\n    </tr>\n    <tr>\n      <th>6</th>\n      <td>Seattle</td>\n      <td>16534</td>\n    </tr>\n    <tr>\n      <th>7</th>\n      <td>Portland</td>\n      <td>14037</td>\n    </tr>\n    <tr>\n      <th>8</th>\n      <td>Austin</td>\n      <td>11137</td>\n    </tr>\n  </tbody>\n</table>\n</div>"
     },
     "execution_count": 148,
     "metadata": {},
     "output_type": "execute_result"
    }
   ],
   "source": [
    "pd_sales_q2"
   ],
   "metadata": {
    "collapsed": false,
    "pycharm": {
     "name": "#%%\n"
    }
   }
  },
  {
   "cell_type": "code",
   "execution_count": 151,
   "outputs": [
    {
     "data": {
      "text/plain": "<Figure size 720x432 with 1 Axes>",
      "image/png": "[encoded data removed]"
     },
     "metadata": {},
     "output_type": "display_data"
    }
   ],
   "source": [
    "plt.figure(figsize=(10, 6))\n",
    "plt.ticklabel_format(useOffset=False, style=\"plain\")\n",
    "sns.set_theme(style=\"darkgrid\")\n",
    "sns.barplot(x=\"TotalProducts\", y=\"City\", data=pd_sales_q2).set_title(\"Total Products per City\")\n",
    "plt.xlabel(\"Total Products\")\n",
    "plt.show()"
   ],
   "metadata": {
    "collapsed": false,
    "pycharm": {
     "name": "#%%\n"
    }
   }
  },
  {
   "cell_type": "markdown",
   "source": [
    "##### What time should we display advertisements to maximize the likelihood of customers buying products?"
   ],
   "metadata": {
    "collapsed": false,
    "pycharm": {
     "name": "#%% md\n"
    }
   }
  },
  {
   "cell_type": "code",
   "execution_count": 141,
   "outputs": [],
   "source": [],
   "metadata": {
    "collapsed": false,
    "pycharm": {
     "name": "#%%\n"
    }
   }
  },
  {
   "cell_type": "code",
   "execution_count": 142,
   "outputs": [
    {
     "name": "stdout",
     "output_type": "stream",
     "text": [
      "+-----------------+------------------+\n",
      "|CAST(hour AS INT)|sum(TotalSales)   |\n",
      "+-----------------+------------------+\n",
      "|12               |2314359.8384149075|\n",
      "|22               |1606243.8415923119|\n",
      "|1                |460563.8978149891 |\n",
      "|13               |2152369.9689331055|\n",
      "|16               |1902523.1909103394|\n",
      "+-----------------+------------------+\n",
      "only showing top 5 rows\n",
      "\n"
     ]
    }
   ],
   "source": [
    "updated_sales_data_df = sales_data_df.withColumn(\"hour\", date_format(\"OrderDate\", \"HH\"))\\\n",
    "                                    .withColumn(\"TotalSales\", expr(\"Price * Quantity\").cast(FloatType()))\n",
    "\n",
    "updated_sales_data_df.groupBy(col(\"hour\").cast(IntegerType()))\\\n",
    "                    .agg(sum(col(\"TotalSales\")))\\\n",
    "                    .show(5, truncate=False)"
   ],
   "metadata": {
    "collapsed": false,
    "pycharm": {
     "name": "#%%\n"
    }
   }
  },
  {
   "cell_type": "code",
   "execution_count": 153,
   "outputs": [
    {
     "name": "stdout",
     "output_type": "stream",
     "text": [
      "+-------+--------------------------+--------+------+-------------------+--------------------------------------+-------------+-----+----------+-----+\n",
      "|OrderID|Product                   |Quantity|Price |OrderDate          |StoreAddress                          |City         |State|ReportYear|Month|\n",
      "+-------+--------------------------+--------+------+-------------------+--------------------------------------+-------------+-----+----------+-----+\n",
      "|296174 |27in FHD Monitor          |1       |149.99|2019-12-29 09:38:00|982 Cherry St, Portland, OR 97035     |Portland     |OR   |2019      |12   |\n",
      "|296176 |Wired Headphones          |1       |11.99 |2019-12-11 17:56:00|893 Cedar St, San Francisco, CA 94016 |San Francisco|CA   |2019      |12   |\n",
      "|296475 |27in 4K Gaming Monitor    |1       |389.99|2019-12-27 12:57:00|309 South St, Los Angeles, CA 90001   |Los Angeles  |CA   |2019      |12   |\n",
      "|297038 |Apple Airpods Headphones  |1       |150.0 |2019-12-28 20:47:00|778 Park St, New York City, NY 10001  |New York City|NY   |2019      |12   |\n",
      "|297142 |iPhone                    |1       |700.0 |2019-12-26 13:29:00|638 Forest St, Dallas, TX 75001       |Dallas       |TX   |2019      |12   |\n",
      "|297342 |USB-C Charging Cable      |1       |11.95 |2019-12-17 01:57:00|871 Cherry St, San Francisco, CA 94016|San Francisco|CA   |2019      |12   |\n",
      "|297695 |Bose SoundSport Headphones|1       |99.99 |2019-12-08 20:37:00|244 6th St, Atlanta, GA 30301         |Atlanta      |GA   |2019      |12   |\n",
      "|297902 |Wired Headphones          |1       |11.99 |2019-12-01 10:31:00|466 2nd St, Austin, TX 73301          |Austin       |TX   |2019      |12   |\n",
      "|297992 |LG Dryer                  |1       |600.0 |2019-12-12 00:04:00|427 Lake St, Atlanta, GA 30301        |Atlanta      |GA   |2019      |12   |\n",
      "|298194 |Lightning Charging Cable  |1       |14.95 |2019-12-16 19:13:00|593 2nd St, San Francisco, CA 94016   |San Francisco|CA   |2019      |12   |\n",
      "+-------+--------------------------+--------+------+-------------------+--------------------------------------+-------------+-----+----------+-----+\n",
      "only showing top 10 rows\n",
      "\n"
     ]
    }
   ],
   "source": [
    "sales_data_df.show(10, truncate=False)"
   ],
   "metadata": {
    "collapsed": false,
    "pycharm": {
     "name": "#%%\n"
    }
   }
  },
  {
   "cell_type": "code",
   "execution_count": 154,
   "outputs": [
    {
     "name": "stdout",
     "output_type": "stream",
     "text": [
      "+-------+-----+\n",
      "|OrderID|Count|\n",
      "+-------+-----+\n",
      "|300601 |2    |\n",
      "|304276 |2    |\n",
      "|310188 |2    |\n",
      "|276515 |2    |\n",
      "|188122 |2    |\n",
      "|269251 |2    |\n",
      "|265863 |2    |\n",
      "|284489 |2    |\n",
      "|261569 |2    |\n",
      "|277349 |2    |\n",
      "+-------+-----+\n",
      "only showing top 10 rows\n",
      "\n"
     ]
    }
   ],
   "source": [
    "sales_data_df.groupBy(\"OrderID\").agg(count(\"OrderID\").alias(\"Count\"))\\\n",
    "            .where(col(\"Count\") > 1).show(10, truncate=False)"
   ],
   "metadata": {
    "collapsed": false,
    "pycharm": {
     "name": "#%%\n"
    }
   }
  },
  {
   "cell_type": "code",
   "execution_count": 155,
   "outputs": [
    {
     "name": "stdout",
     "output_type": "stream",
     "text": [
      "+-------+---------------+--------+------+-------------------+-----------------------------------+-------------+-----+----------+-----+\n",
      "|OrderID|Product        |Quantity|Price |OrderDate          |StoreAddress                       |City         |State|ReportYear|Month|\n",
      "+-------+---------------+--------+------+-------------------+-----------------------------------+-------------+-----+----------+-----+\n",
      "|304276 |ThinkPad Laptop|1       |999.99|2019-12-15 06:07:00|358 5th St, New York City, NY 10001|New York City|NY   |2019      |12   |\n",
      "|304276 |iPhone         |1       |700.0 |2019-12-15 06:07:00|358 5th St, New York City, NY 10001|New York City|NY   |2019      |12   |\n",
      "+-------+---------------+--------+------+-------------------+-----------------------------------+-------------+-----+----------+-----+\n",
      "\n"
     ]
    }
   ],
   "source": [
    "sales_data_df.filter(col(\"OrderID\") == 304276).show(truncate=False)"
   ],
   "metadata": {
    "collapsed": false,
    "pycharm": {
     "name": "#%%\n"
    }
   }
  },
  {
   "cell_type": "code",
   "execution_count": 158,
   "outputs": [],
   "source": [
    "sales_q3_df = sales_data_df.select(\n",
    "    \"OrderID\", date_format(\"OrderDate\", \"HH\").cast(IntegerType()).alias(\"Hour\")\n",
    ").distinct()\\\n",
    " .groupBy(\"Hour\")\\\n",
    " .agg(count(\"Hour\").alias(\"TotalOrders\"))\\\n",
    " .orderBy(\"TotalOrders\", ascending=False)"
   ],
   "metadata": {
    "collapsed": false,
    "pycharm": {
     "name": "#%%\n"
    }
   }
  },
  {
   "cell_type": "code",
   "execution_count": 159,
   "outputs": [
    {
     "name": "stdout",
     "output_type": "stream",
     "text": [
      "+----+-----------+\n",
      "|Hour|TotalOrders|\n",
      "+----+-----------+\n",
      "|19  |12377      |\n",
      "|12  |12082      |\n",
      "|11  |11882      |\n",
      "|20  |11763      |\n",
      "|18  |11761      |\n",
      "|13  |11682      |\n",
      "|14  |10522      |\n",
      "|21  |10499      |\n",
      "|10  |10492      |\n",
      "|17  |10476      |\n",
      "|16  |9960       |\n",
      "|15  |9761       |\n",
      "|22  |8453       |\n",
      "|9   |8404       |\n",
      "|8   |6036       |\n",
      "|23  |5990       |\n",
      "|7   |3836       |\n",
      "|0   |3758       |\n",
      "|6   |2375       |\n",
      "|1   |2255       |\n",
      "+----+-----------+\n",
      "only showing top 20 rows\n",
      "\n"
     ]
    }
   ],
   "source": [
    "sales_q3_df.show(truncate=False)"
   ],
   "metadata": {
    "collapsed": false,
    "pycharm": {
     "name": "#%%\n"
    }
   }
  },
  {
   "cell_type": "code",
   "execution_count": 160,
   "outputs": [],
   "source": [
    "pd_sales_q3 = sales_q3_df.orderBy(\"Hour\").toPandas()"
   ],
   "metadata": {
    "collapsed": false,
    "pycharm": {
     "name": "#%%\n"
    }
   }
  },
  {
   "cell_type": "code",
   "execution_count": 162,
   "outputs": [
    {
     "data": {
      "text/plain": "    Hour  TotalOrders\n0      0         3758\n1      1         2255\n2      2         1193\n3      3          807\n4      4          814\n5      5         1259\n6      6         2375\n7      7         3836\n8      8         6036\n9      9         8404\n10    10        10492\n11    11        11882\n12    12        12082\n13    13        11682\n14    14        10522\n15    15         9761\n16    16         9960\n17    17        10476\n18    18        11761\n19    19        12377\n20    20        11763\n21    21        10499\n22    22         8453\n23    23         5990",
      "text/html": "<div>\n<style scoped>\n    .dataframe tbody tr th:only-of-type {\n        vertical-align: middle;\n    }\n\n    .dataframe tbody tr th {\n        vertical-align: top;\n    }\n\n    .dataframe thead th {\n        text-align: right;\n    }\n</style>\n<table border=\"1\" class=\"dataframe\">\n  <thead>\n    <tr style=\"text-align: right;\">\n      <th></th>\n      <th>Hour</th>\n      <th>TotalOrders</th>\n    </tr>\n  </thead>\n  <tbody>\n    <tr>\n      <th>0</th>\n      <td>0</td>\n      <td>3758</td>\n    </tr>\n    <tr>\n      <th>1</th>\n      <td>1</td>\n      <td>2255</td>\n    </tr>\n    <tr>\n      <th>2</th>\n      <td>2</td>\n      <td>1193</td>\n    </tr>\n    <tr>\n      <th>3</th>\n      <td>3</td>\n      <td>807</td>\n    </tr>\n    <tr>\n      <th>4</th>\n      <td>4</td>\n      <td>814</td>\n    </tr>\n    <tr>\n      <th>5</th>\n      <td>5</td>\n      <td>1259</td>\n    </tr>\n    <tr>\n      <th>6</th>\n      <td>6</td>\n      <td>2375</td>\n    </tr>\n    <tr>\n      <th>7</th>\n      <td>7</td>\n      <td>3836</td>\n    </tr>\n    <tr>\n      <th>8</th>\n      <td>8</td>\n      <td>6036</td>\n    </tr>\n    <tr>\n      <th>9</th>\n      <td>9</td>\n      <td>8404</td>\n    </tr>\n    <tr>\n      <th>10</th>\n      <td>10</td>\n      <td>10492</td>\n    </tr>\n    <tr>\n      <th>11</th>\n      <td>11</td>\n      <td>11882</td>\n    </tr>\n    <tr>\n      <th>12</th>\n      <td>12</td>\n      <td>12082</td>\n    </tr>\n    <tr>\n      <th>13</th>\n      <td>13</td>\n      <td>11682</td>\n    </tr>\n    <tr>\n      <th>14</th>\n      <td>14</td>\n      <td>10522</td>\n    </tr>\n    <tr>\n      <th>15</th>\n      <td>15</td>\n      <td>9761</td>\n    </tr>\n    <tr>\n      <th>16</th>\n      <td>16</td>\n      <td>9960</td>\n    </tr>\n    <tr>\n      <th>17</th>\n      <td>17</td>\n      <td>10476</td>\n    </tr>\n    <tr>\n      <th>18</th>\n      <td>18</td>\n      <td>11761</td>\n    </tr>\n    <tr>\n      <th>19</th>\n      <td>19</td>\n      <td>12377</td>\n    </tr>\n    <tr>\n      <th>20</th>\n      <td>20</td>\n      <td>11763</td>\n    </tr>\n    <tr>\n      <th>21</th>\n      <td>21</td>\n      <td>10499</td>\n    </tr>\n    <tr>\n      <th>22</th>\n      <td>22</td>\n      <td>8453</td>\n    </tr>\n    <tr>\n      <th>23</th>\n      <td>23</td>\n      <td>5990</td>\n    </tr>\n  </tbody>\n</table>\n</div>"
     },
     "execution_count": 162,
     "metadata": {},
     "output_type": "execute_result"
    }
   ],
   "source": [
    "pd_sales_q3"
   ],
   "metadata": {
    "collapsed": false,
    "pycharm": {
     "name": "#%%\n"
    }
   }
  },
  {
   "cell_type": "code",
   "execution_count": 164,
   "outputs": [
    {
     "data": {
      "text/plain": "<Figure size 720x432 with 1 Axes>",
      "image/png": "[encoded data removed]"
     },
     "metadata": {},
     "output_type": "display_data"
    }
   ],
   "source": [
    "plt.figure(figsize=(10, 6))\n",
    "plt.ticklabel_format(useOffset=False, style=\"plain\")\n",
    "sns.set_theme(style=\"whitegrid\")\n",
    "sns.lineplot(x=\"Hour\", y=\"TotalOrders\", data=pd_sales_q3)\n",
    "plt.ylabel(\"Total Orders\")\n",
    "plt.show()"
   ],
   "metadata": {
    "collapsed": false,
    "pycharm": {
     "name": "#%%\n"
    }
   }
  },
  {
   "cell_type": "markdown",
   "source": [
    "##### What products are often sold together in the state \"NY\"?"
   ],
   "metadata": {
    "collapsed": false,
    "pycharm": {
     "name": "#%% md\n"
    }
   }
  },
  {
   "cell_type": "code",
   "execution_count": 143,
   "outputs": [
    {
     "name": "stdout",
     "output_type": "stream",
     "text": [
      "root\n",
      " |-- OrderID: integer (nullable = true)\n",
      " |-- Product: string (nullable = true)\n",
      " |-- Quantity: integer (nullable = true)\n",
      " |-- Price: float (nullable = true)\n",
      " |-- OrderDate: string (nullable = true)\n",
      " |-- StoreAddress: string (nullable = true)\n",
      " |-- City: string (nullable = true)\n",
      " |-- State: string (nullable = true)\n",
      " |-- ReportYear: integer (nullable = true)\n",
      " |-- Month: integer (nullable = true)\n",
      "\n"
     ]
    }
   ],
   "source": [
    "sales_data_df.printSchema()"
   ],
   "metadata": {
    "collapsed": false,
    "pycharm": {
     "name": "#%%\n"
    }
   }
  },
  {
   "cell_type": "code",
   "execution_count": 144,
   "outputs": [
    {
     "data": {
      "text/plain": "185686"
     },
     "execution_count": 144,
     "metadata": {},
     "output_type": "execute_result"
    }
   ],
   "source": [
    "sales_data_df.select(\"OrderID\").count()"
   ],
   "metadata": {
    "collapsed": false,
    "pycharm": {
     "name": "#%%\n"
    }
   }
  },
  {
   "cell_type": "code",
   "execution_count": 145,
   "outputs": [
    {
     "data": {
      "text/plain": "178437"
     },
     "execution_count": 145,
     "metadata": {},
     "output_type": "execute_result"
    }
   ],
   "source": [
    "sales_data_df.select(\"OrderID\").distinct().count()"
   ],
   "metadata": {
    "collapsed": false,
    "pycharm": {
     "name": "#%%\n"
    }
   }
  },
  {
   "cell_type": "code",
   "execution_count": 166,
   "outputs": [],
   "source": [
    "sales_q4_df = sales_data_df.where(col(\"State\") == \"NY\")\\\n",
    "                        .orderBy(\"OrderID\", \"Product\")\\\n",
    "                        .groupBy(\"OrderID\", \"State\")\\\n",
    "                        .agg(collect_list(\"Product\").alias(\"ProductList\"))"
   ],
   "metadata": {
    "collapsed": false,
    "pycharm": {
     "name": "#%%\n"
    }
   }
  },
  {
   "cell_type": "code",
   "execution_count": 167,
   "outputs": [
    {
     "name": "stdout",
     "output_type": "stream",
     "text": [
      "+-------+-----+------------------------------------------------+\n",
      "|OrderID|State|ProductList                                     |\n",
      "+-------+-----+------------------------------------------------+\n",
      "|141851 |NY   |[27in FHD Monitor]                              |\n",
      "|142149 |NY   |[AA Batteries (4-pack)]                         |\n",
      "|142787 |NY   |[Lightning Charging Cable]                      |\n",
      "|143020 |NY   |[ThinkPad Laptop]                               |\n",
      "|143862 |NY   |[Apple Airpods Headphones]                      |\n",
      "|144151 |NY   |[LG Dryer]                                      |\n",
      "|144851 |NY   |[Apple Airpods Headphones, USB-C Charging Cable]|\n",
      "|146589 |NY   |[Wired Headphones]                              |\n",
      "|147784 |NY   |[AAA Batteries (4-pack)]                        |\n",
      "|148099 |NY   |[27in 4K Gaming Monitor]                        |\n",
      "+-------+-----+------------------------------------------------+\n",
      "only showing top 10 rows\n",
      "\n"
     ]
    }
   ],
   "source": [
    "sales_q4_df.show(10, truncate=False)"
   ],
   "metadata": {
    "collapsed": false,
    "pycharm": {
     "name": "#%%\n"
    }
   }
  },
  {
   "cell_type": "code",
   "execution_count": 169,
   "outputs": [
    {
     "name": "stdout",
     "output_type": "stream",
     "text": [
      "+-------+-----+----------------------------------------+---------------+\n",
      "|OrderID|State|ProductList                             |ProductListSize|\n",
      "+-------+-----+----------------------------------------+---------------+\n",
      "|253929 |NY   |[20in Monitor, 27in 4K Gaming Monitor]  |2              |\n",
      "|248053 |NY   |[20in Monitor, AA Batteries (4-pack)]   |2              |\n",
      "|197004 |NY   |[20in Monitor, AA Batteries (4-pack)]   |2              |\n",
      "|266247 |NY   |[20in Monitor, AA Batteries (4-pack)]   |2              |\n",
      "|158102 |NY   |[20in Monitor, AA Batteries (4-pack)]   |2              |\n",
      "|245465 |NY   |[20in Monitor, AAA Batteries (4-pack)]  |2              |\n",
      "|176251 |NY   |[20in Monitor, AAA Batteries (4-pack)]  |2              |\n",
      "|194762 |NY   |[20in Monitor, AAA Batteries (4-pack)]  |2              |\n",
      "|204645 |NY   |[20in Monitor, Apple Airpods Headphones]|2              |\n",
      "|234956 |NY   |[20in Monitor, Apple Airpods Headphones]|2              |\n",
      "+-------+-----+----------------------------------------+---------------+\n",
      "only showing top 10 rows\n",
      "\n"
     ]
    }
   ],
   "source": [
    "sales_q4_df = sales_q4_df.withColumn(\"ProductListSize\", size(\"ProductList\"))\n",
    "sales_q4_df.filter(col(\"ProductListSize\") > 1).orderBy(\"ProductList\").show(10, truncate=False)"
   ],
   "metadata": {
    "collapsed": false,
    "pycharm": {
     "name": "#%%\n"
    }
   }
  },
  {
   "cell_type": "code",
   "execution_count": 171,
   "outputs": [
    {
     "name": "stdout",
     "output_type": "stream",
     "text": [
      "+-------------------------------------------------+-----------+\n",
      "|ProductList                                      |Appearances|\n",
      "+-------------------------------------------------+-----------+\n",
      "|[Google Phone, USB-C Charging Cable]             |127        |\n",
      "|[Lightning Charging Cable, iPhone]               |127        |\n",
      "|[Google Phone, Wired Headphones]                 |53         |\n",
      "|[USB-C Charging Cable, Vareebadd Phone]          |50         |\n",
      "|[Wired Headphones, iPhone]                       |46         |\n",
      "|[Apple Airpods Headphones, iPhone]               |45         |\n",
      "|[Bose SoundSport Headphones, Google Phone]       |24         |\n",
      "|[Apple Airpods Headphones, Wired Headphones]     |19         |\n",
      "|[Vareebadd Phone, Wired Headphones]              |17         |\n",
      "|[AA Batteries (4-pack), Lightning Charging Cable]|16         |\n",
      "+-------------------------------------------------+-----------+\n",
      "only showing top 10 rows\n",
      "\n"
     ]
    }
   ],
   "source": [
    "sales_q4_df.filter(col(\"ProductListSize\") > 1)\\\n",
    "        .groupBy(\"ProductList\")\\\n",
    "        .agg(count(\"ProductList\").alias(\"Appearances\"))\\\n",
    "        .orderBy(\"Appearances\", ascending=False)\\\n",
    "        .show(10, truncate=False)"
   ],
   "metadata": {
    "collapsed": false,
    "pycharm": {
     "name": "#%%\n"
    }
   }
  },
  {
   "cell_type": "code",
   "execution_count": null,
   "outputs": [],
   "source": [],
   "metadata": {
    "collapsed": false,
    "pycharm": {
     "name": "#%%\n"
    }
   }
  }
 ],
 "metadata": {
  "kernelspec": {
   "display_name": "Python 3",
   "language": "python",
   "name": "python3"
  },
  "language_info": {
   "codemirror_mode": {
    "name": "ipython",
    "version": 2
   },
   "file_extension": ".py",
   "mimetype": "text/x-python",
   "name": "python",
   "nbconvert_exporter": "python",
   "pygments_lexer": "ipython2",
   "version": "2.7.6"
  }
 },
 "nbformat": 4,
 "nbformat_minor": 0
}