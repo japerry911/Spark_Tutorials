{
 "cells": [
  {
   "cell_type": "code",
   "execution_count": 3,
   "id": "c96c2b97",
   "metadata": {},
   "outputs": [],
   "source": [
    "from pyspark.sql import SparkSession\n",
    "\n",
    "spark = SparkSession.builder.appName(\"ChallengeDailyTemperatures\").getOrCreate()"
   ]
  },
  {
   "cell_type": "code",
   "execution_count": 4,
   "id": "eedd93b4",
   "metadata": {},
   "outputs": [],
   "source": [
    "temps = [59, 57.2, 53.6, 55.4, 51.8, 53.6, 55.4]"
   ]
  },
  {
   "cell_type": "code",
   "execution_count": 6,
   "id": "4e456143",
   "metadata": {},
   "outputs": [],
   "source": [
    "temps_rdd = spark.sparkContext.parallelize(temps)"
   ]
  },
  {
   "cell_type": "code",
   "execution_count": 7,
   "id": "8df03843",
   "metadata": {},
   "outputs": [],
   "source": [
    "def to_celsius(temp):\n",
    "    return (temp - 32) * (5/9)"
   ]
  },
  {
   "cell_type": "code",
   "execution_count": 13,
   "id": "f223e3ac",
   "metadata": {},
   "outputs": [],
   "source": [
    "celsius_temps_list = temps_rdd.map(to_celsius)"
   ]
  },
  {
   "cell_type": "code",
   "execution_count": 17,
   "id": "67aac700",
   "metadata": {},
   "outputs": [
    {
     "name": "stdout",
     "output_type": "stream",
     "text": [
      "15.0\n",
      "14.000000000000002\n",
      "13.0\n",
      "13.0\n"
     ]
    }
   ],
   "source": [
    "greater_than_13_temps = celsius_temps_list.filter(lambda x: x >= 13).collect()\n",
    "\n",
    "for temp in greater_than_13_temps:\n",
    "    print(temp)"
   ]
  },
  {
   "cell_type": "code",
   "execution_count": null,
   "id": "3cea5224",
   "metadata": {},
   "outputs": [],
   "source": []
  }
 ],
 "metadata": {
  "kernelspec": {
   "display_name": "Python 3",
   "language": "python",
   "name": "python3"
  },
  "language_info": {
   "codemirror_mode": {
    "name": "ipython",
    "version": 3
   },
   "file_extension": ".py",
   "mimetype": "text/x-python",
   "name": "python",
   "nbconvert_exporter": "python",
   "pygments_lexer": "ipython3",
   "version": "3.9.1"
  }
 },
 "nbformat": 4,
 "nbformat_minor": 5
}
