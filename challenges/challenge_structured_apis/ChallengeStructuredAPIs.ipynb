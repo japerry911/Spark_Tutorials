{
 "cells": [
  {
   "cell_type": "code",
   "execution_count": 1,
   "metadata": {
    "collapsed": true,
    "pycharm": {
     "name": "#%%\n"
    }
   },
   "outputs": [],
   "source": [
    "from pyspark.sql import SparkSession\n",
    "from pyspark.sql.types import StructType, StructField, StringType"
   ]
  },
  {
   "cell_type": "code",
   "execution_count": 2,
   "outputs": [],
   "source": [
    "spark = SparkSession.builder.appName(\"SparkSalesAnalytics\").getOrCreate()"
   ],
   "metadata": {
    "collapsed": false,
    "pycharm": {
     "name": "#%%\n"
    }
   }
  },
  {
   "cell_type": "markdown",
   "source": [
    "### Data Preparation"
   ],
   "metadata": {
    "collapsed": false,
    "pycharm": {
     "name": "#%% md\n"
    }
   }
  },
  {
   "cell_type": "code",
   "execution_count": 3,
   "outputs": [],
   "source": [
    "schema = StructType([\n",
    "    StructField(\"OrderID\", StringType()),\n",
    "    StructField(\"Product\", StringType()),\n",
    "    StructField(\"QuantityOrdered\", StringType()),\n",
    "    StructField(\"PriceEach\", StringType()),\n",
    "    StructField(\"OrderDate\", StringType()),\n",
    "    StructField(\"PurchaseAddress\", StringType())\n",
    "])"
   ],
   "metadata": {
    "collapsed": false,
    "pycharm": {
     "name": "#%%\n"
    }
   }
  },
  {
   "cell_type": "code",
   "execution_count": 4,
   "outputs": [],
   "source": [
    "df = spark.read\\\n",
    "          .format(\"csv\")\\\n",
    "          .option(\"header\", True)\\\n",
    "          .schema(schema)\\\n",
    "          .load(\"././data/salesdata/*\")"
   ],
   "metadata": {
    "collapsed": false,
    "pycharm": {
     "name": "#%%\n"
    }
   }
  },
  {
   "cell_type": "code",
   "execution_count": 5,
   "outputs": [
    {
     "data": {
      "text/plain": "186850"
     },
     "execution_count": 5,
     "metadata": {},
     "output_type": "execute_result"
    }
   ],
   "source": [
    "df.count()"
   ],
   "metadata": {
    "collapsed": false,
    "pycharm": {
     "name": "#%%\n"
    }
   }
  },
  {
   "cell_type": "code",
   "execution_count": 6,
   "outputs": [
    {
     "name": "stdout",
     "output_type": "stream",
     "text": [
      "+-------+--------------------------+---------------+---------+--------------+-----------------------------------------+\n",
      "|OrderID|Product                   |QuantityOrdered|PriceEach|OrderDate     |PurchaseAddress                          |\n",
      "+-------+--------------------------+---------------+---------+--------------+-----------------------------------------+\n",
      "|295665 |Macbook Pro Laptop        |1              |1700     |12/30/19 00:01|136 Church St, New York City, NY 10001   |\n",
      "|295666 |LG Washing Machine        |1              |600.0    |12/29/19 07:03|562 2nd St, New York City, NY 10001      |\n",
      "|295667 |USB-C Charging Cable      |1              |11.95    |12/12/19 18:21|277 Main St, New York City, NY 10001     |\n",
      "|295668 |27in FHD Monitor          |1              |149.99   |12/22/19 15:13|410 6th St, San Francisco, CA 94016      |\n",
      "|295669 |USB-C Charging Cable      |1              |11.95    |12/18/19 12:38|43 Hill St, Atlanta, GA 30301            |\n",
      "|295670 |AA Batteries (4-pack)     |1              |3.84     |12/31/19 22:58|200 Jefferson St, New York City, NY 10001|\n",
      "|295671 |USB-C Charging Cable      |1              |11.95    |12/16/19 15:10|928 12th St, Portland, OR 97035          |\n",
      "|295672 |USB-C Charging Cable      |2              |11.95    |12/13/19 09:29|813 Hickory St, Dallas, TX 75001         |\n",
      "|295673 |Bose SoundSport Headphones|1              |99.99    |12/15/19 23:26|718 Wilson St, Dallas, TX 75001          |\n",
      "|295674 |AAA Batteries (4-pack)    |4              |2.99     |12/28/19 11:51|77 7th St, Dallas, TX 75001              |\n",
      "+-------+--------------------------+---------------+---------+--------------+-----------------------------------------+\n",
      "only showing top 10 rows\n",
      "\n"
     ]
    }
   ],
   "source": [
    "df.show(10, truncate=False)"
   ],
   "metadata": {
    "collapsed": false,
    "pycharm": {
     "name": "#%%\n"
    }
   }
  },
  {
   "cell_type": "code",
   "execution_count": 14,
   "outputs": [],
   "source": [],
   "metadata": {
    "collapsed": false,
    "pycharm": {
     "name": "#%%\n"
    }
   }
  },
  {
   "cell_type": "code",
   "execution_count": 7,
   "outputs": [
    {
     "name": "stdout",
     "output_type": "stream",
     "text": [
      "root\n",
      " |-- OrderID: string (nullable = true)\n",
      " |-- Product: string (nullable = true)\n",
      " |-- QuantityOrdered: string (nullable = true)\n",
      " |-- PriceEach: string (nullable = true)\n",
      " |-- OrderDate: string (nullable = true)\n",
      " |-- PurchaseAddress: string (nullable = true)\n",
      "\n"
     ]
    }
   ],
   "source": [
    "df.printSchema()"
   ],
   "metadata": {
    "collapsed": false,
    "pycharm": {
     "name": "#%%\n"
    }
   }
  },
  {
   "cell_type": "code",
   "execution_count": 21,
   "outputs": [],
   "source": [
    "spark.stop()"
   ],
   "metadata": {
    "collapsed": false,
    "pycharm": {
     "name": "#%%\n"
    }
   }
  },
  {
   "cell_type": "code",
   "execution_count": null,
   "outputs": [],
   "source": [],
   "metadata": {
    "collapsed": false,
    "pycharm": {
     "name": "#%%\n"
    }
   }
  }
 ],
 "metadata": {
  "kernelspec": {
   "display_name": "Python 3",
   "language": "python",
   "name": "python3"
  },
  "language_info": {
   "codemirror_mode": {
    "name": "ipython",
    "version": 2
   },
   "file_extension": ".py",
   "mimetype": "text/x-python",
   "name": "python",
   "nbconvert_exporter": "python",
   "pygments_lexer": "ipython2",
   "version": "2.7.6"
  }
 },
 "nbformat": 4,
 "nbformat_minor": 0
}