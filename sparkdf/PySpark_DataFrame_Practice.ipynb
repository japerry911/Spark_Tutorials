{
 "cells": [
  {
   "cell_type": "code",
   "execution_count": 1,
   "id": "bd460f05-fcd4-425c-8d9f-0804980d9cd5",
   "metadata": {},
   "outputs": [],
   "source": [
    "from pyspark.sql import SparkSession\n",
    "from pyspark.sql.types import StructType, StructField, StringType, IntegerType"
   ]
  },
  {
   "cell_type": "code",
   "execution_count": 2,
   "outputs": [],
   "source": [
    "spark = SparkSession.builder.appName(\"PySparkDFPractice\").getOrCreate()"
   ],
   "metadata": {
    "collapsed": false,
    "pycharm": {
     "name": "#%%\n"
    }
   }
  },
  {
   "cell_type": "code",
   "execution_count": 4,
   "outputs": [],
   "source": [
    "data = [(\"James\",\"\",\"Smith\",\"36636\",\"M\",3000),\n",
    "    (\"Michael\",\"Rose\",\"\",\"40288\",\"M\",4000),\n",
    "    (\"Robert\",\"\",\"Williams\",\"42114\",\"M\",4000),\n",
    "    (\"Maria\",\"Anne\",\"Jones\",\"39192\",\"F\",4000),\n",
    "    (\"Jen\",\"Mary\",\"Brown\",\"\",\"F\",-1)\n",
    "  ]"
   ],
   "metadata": {
    "collapsed": false,
    "pycharm": {
     "name": "#%%\n"
    }
   }
  },
  {
   "cell_type": "code",
   "execution_count": 7,
   "outputs": [
    {
     "data": {
      "text/plain": "list"
     },
     "execution_count": 7,
     "metadata": {},
     "output_type": "execute_result"
    }
   ],
   "source": [
    "type(data)"
   ],
   "metadata": {
    "collapsed": false,
    "pycharm": {
     "name": "#%%\n"
    }
   }
  },
  {
   "cell_type": "code",
   "execution_count": 8,
   "outputs": [],
   "source": [
    "# Nullable is 3rd Parameter to StructField, defaults to True\n",
    "schema = StructType([\n",
    "    StructField(\"firstname\", StringType()),\n",
    "    StructField(\"middlename\", StringType()),\n",
    "    StructField(\"lastname\", StringType()),\n",
    "    StructField(\"id\", StringType()),\n",
    "    StructField(\"gender\", StringType()),\n",
    "    StructField(\"Salary\", IntegerType())\n",
    "])"
   ],
   "metadata": {
    "collapsed": false,
    "pycharm": {
     "name": "#%%\n"
    }
   }
  },
  {
   "cell_type": "code",
   "execution_count": 9,
   "outputs": [
    {
     "name": "stdout",
     "output_type": "stream",
     "text": [
      "root\n",
      " |-- firstname: string (nullable = true)\n",
      " |-- middlename: string (nullable = true)\n",
      " |-- lastname: string (nullable = true)\n",
      " |-- id: string (nullable = true)\n",
      " |-- gender: string (nullable = true)\n",
      " |-- Salary: integer (nullable = true)\n",
      "\n"
     ]
    }
   ],
   "source": [
    "df = spark.createDataFrame(data, schema=schema)\n",
    "df.printSchema()"
   ],
   "metadata": {
    "collapsed": false,
    "pycharm": {
     "name": "#%%\n"
    }
   }
  },
  {
   "cell_type": "code",
   "execution_count": 15,
   "outputs": [
    {
     "name": "stdout",
     "output_type": "stream",
     "text": [
      "+---------+----------+--------+-----+------+------+\n",
      "|firstname|middlename|lastname|id   |gender|Salary|\n",
      "+---------+----------+--------+-----+------+------+\n",
      "|James    |          |Smith   |36636|M     |3000  |\n",
      "|Michael  |Rose      |        |40288|M     |4000  |\n",
      "|Robert   |          |Williams|42114|M     |4000  |\n",
      "|Maria    |Anne      |Jones   |39192|F     |4000  |\n",
      "|Jen      |Mary      |Brown   |     |F     |-1    |\n",
      "+---------+----------+--------+-----+------+------+\n",
      "\n"
     ]
    }
   ],
   "source": [
    "df.show(truncate=False)"
   ],
   "metadata": {
    "collapsed": false,
    "pycharm": {
     "name": "#%%\n"
    }
   }
  },
  {
   "cell_type": "code",
   "execution_count": 16,
   "outputs": [],
   "source": [
    "file_path = \"./testdata/fire-incidents/fire-incidents.csv\"\n",
    "fire_df = spark.read\\\n",
    "              .format(\"csv\")\\\n",
    "              .option(\"header\", True)\\\n",
    "              .option(\"inferSchema\", True)\\\n",
    "              .load(file_path)"
   ],
   "metadata": {
    "collapsed": false,
    "pycharm": {
     "name": "#%%\n"
    }
   }
  },
  {
   "cell_type": "code",
   "execution_count": 17,
   "outputs": [
    {
     "name": "stdout",
     "output_type": "stream",
     "text": [
      "+--------------+-------------------+-------------+\n",
      "|IncidentNumber|       IncidentDate|         City|\n",
      "+--------------+-------------------+-------------+\n",
      "|      20104668|2020-09-11 00:00:00|San Francisco|\n",
      "|      20104708|2020-09-11 00:00:00|San Francisco|\n",
      "|      20104648|2020-09-10 00:00:00|San Francisco|\n",
      "|      20104598|2020-09-10 00:00:00|San Francisco|\n",
      "|      20104575|2020-09-10 00:00:00|San Francisco|\n",
      "|      20104477|2020-09-10 00:00:00|San Francisco|\n",
      "|      20104443|2020-09-10 00:00:00|San Francisco|\n",
      "|      20104605|2020-09-10 00:00:00|San Francisco|\n",
      "|      20104474|2020-09-10 00:00:00|San Francisco|\n",
      "|      20104652|2020-09-10 00:00:00|San Francisco|\n",
      "+--------------+-------------------+-------------+\n",
      "only showing top 10 rows\n",
      "\n"
     ]
    }
   ],
   "source": [
    "fire_df.select(\"IncidentNumber\", \"IncidentDate\", \"City\").show(10)"
   ],
   "metadata": {
    "collapsed": false,
    "pycharm": {
     "name": "#%%\n"
    }
   }
  },
  {
   "cell_type": "code",
   "execution_count": 19,
   "outputs": [
    {
     "data": {
      "text/plain": "538285"
     },
     "execution_count": 19,
     "metadata": {},
     "output_type": "execute_result"
    }
   ],
   "source": [
    "fire_df.count()"
   ],
   "metadata": {
    "collapsed": false,
    "pycharm": {
     "name": "#%%\n"
    }
   }
  },
  {
   "cell_type": "code",
   "execution_count": 20,
   "outputs": [
    {
     "name": "stdout",
     "output_type": "stream",
     "text": [
      "root\n",
      " |-- IncidentNumber: integer (nullable = true)\n",
      " |-- ExposureNumber: integer (nullable = true)\n",
      " |-- ID: integer (nullable = true)\n",
      " |-- Address: string (nullable = true)\n",
      " |-- IncidentDate: timestamp (nullable = true)\n",
      " |-- CallNumber: integer (nullable = true)\n",
      " |-- AlarmDtTm: timestamp (nullable = true)\n",
      " |-- ArrivalDtTm: timestamp (nullable = true)\n",
      " |-- CloseDtTm: timestamp (nullable = true)\n",
      " |-- City: string (nullable = true)\n",
      " |-- ZIPCode: string (nullable = true)\n",
      " |-- Battalion: string (nullable = true)\n",
      " |-- StationArea: string (nullable = true)\n",
      " |-- Box: string (nullable = true)\n",
      " |-- SuppressionUnits: integer (nullable = true)\n",
      " |-- SuppressionPersonnel: integer (nullable = true)\n",
      " |-- EMSUnits: integer (nullable = true)\n",
      " |-- EMSPersonnel: integer (nullable = true)\n",
      " |-- OtherUnits: integer (nullable = true)\n",
      " |-- OtherPersonnel: integer (nullable = true)\n",
      " |-- FirstUnitOnScene: string (nullable = true)\n",
      " |-- EstimatedPropertyLoss: integer (nullable = true)\n",
      " |-- EstimatedContentsLoss: double (nullable = true)\n",
      " |-- FireFatalities: integer (nullable = true)\n",
      " |-- FireInjuries: integer (nullable = true)\n",
      " |-- CivilianFatalities: integer (nullable = true)\n",
      " |-- CivilianInjuries: integer (nullable = true)\n",
      " |-- NumberofAlarms: integer (nullable = true)\n",
      " |-- PrimarySituation: string (nullable = true)\n",
      " |-- MutualAid: string (nullable = true)\n",
      " |-- ActionTakenPrimary: string (nullable = true)\n",
      " |-- ActionTakenSecondary: string (nullable = true)\n",
      " |-- ActionTakenOther: string (nullable = true)\n",
      " |-- DetectorAlertedOccupants: string (nullable = true)\n",
      " |-- PropertyUse: string (nullable = true)\n",
      " |-- AreaofFireOrigin: string (nullable = true)\n",
      " |-- IgnitionCause: string (nullable = true)\n",
      " |-- IgnitionFactorPrimary: string (nullable = true)\n",
      " |-- IgnitionFactorSecondary: string (nullable = true)\n",
      " |-- HeatSource: string (nullable = true)\n",
      " |-- ItemFirstIgnited: string (nullable = true)\n",
      " |-- HumanFactorsAssociatedwithIgnition: string (nullable = true)\n",
      " |-- StructureType: string (nullable = true)\n",
      " |-- StructureStatus: string (nullable = true)\n",
      " |-- FloorofFireOrigin: integer (nullable = true)\n",
      " |-- FireSpread: string (nullable = true)\n",
      " |-- NoFlameSpead: string (nullable = true)\n",
      " |-- Numberoffloorswithminimumdamage: integer (nullable = true)\n",
      " |-- Numberoffloorswithsignificantdamage: integer (nullable = true)\n",
      " |-- Numberoffloorswithheavydamage: integer (nullable = true)\n",
      " |-- Numberoffloorswithextremedamage: integer (nullable = true)\n",
      " |-- DetectorsPresent: string (nullable = true)\n",
      " |-- DetectorType: string (nullable = true)\n",
      " |-- DetectorOperation: string (nullable = true)\n",
      " |-- DetectorEffectiveness: string (nullable = true)\n",
      " |-- DetectorFailureReason: string (nullable = true)\n",
      " |-- AutomaticExtinguishingSystemPresent: string (nullable = true)\n",
      " |-- AutomaticExtinguishingSytemType: string (nullable = true)\n",
      " |-- AutomaticExtinguishingSytemPerfomance: string (nullable = true)\n",
      " |-- AutomaticExtinguishingSytemFailureReason: string (nullable = true)\n",
      " |-- NumberofSprinklerHeadsOperating: integer (nullable = true)\n",
      " |-- SupervisorDistrict: integer (nullable = true)\n",
      " |-- AnalysisNeighborhood: string (nullable = true)\n",
      " |-- point: string (nullable = true)\n",
      " |-- NeighborhoodsOld: integer (nullable = true)\n",
      " |-- ZipCodes: integer (nullable = true)\n",
      " |-- FirePreventionDistricts: integer (nullable = true)\n",
      " |-- PoliceDistricts: integer (nullable = true)\n",
      " |-- SupervisorDistricts: integer (nullable = true)\n",
      " |-- CivicCenterHarmReductionProjectBoundary: integer (nullable = true)\n",
      " |-- 2017FixItZones: integer (nullable = true)\n",
      " |-- HSOCZones: integer (nullable = true)\n",
      " |-- CentralMarketTenderloinBoundary: integer (nullable = true)\n",
      " |-- CentralMarketTenderloinBoundaryPolygonUpdated: integer (nullable = true)\n",
      " |-- HSOCZonesasof20180605: integer (nullable = true)\n",
      " |-- Neighborhoods: integer (nullable = true)\n",
      " |-- SFFindNeighborhoods: integer (nullable = true)\n",
      " |-- CurrentPoliceDistricts: integer (nullable = true)\n",
      " |-- CurrentSupervisorDistricts: integer (nullable = true)\n",
      " |-- AnalysisNeighborhoods: integer (nullable = true)\n",
      "\n"
     ]
    }
   ],
   "source": [
    "fire_df.printSchema()"
   ],
   "metadata": {
    "collapsed": false,
    "pycharm": {
     "name": "#%%\n"
    }
   }
  },
  {
   "cell_type": "code",
   "execution_count": 21,
   "outputs": [
    {
     "data": {
      "text/plain": "['IncidentNumber',\n 'ExposureNumber',\n 'ID',\n 'Address',\n 'IncidentDate',\n 'CallNumber',\n 'AlarmDtTm',\n 'ArrivalDtTm',\n 'CloseDtTm',\n 'City',\n 'ZIPCode',\n 'Battalion',\n 'StationArea',\n 'Box',\n 'SuppressionUnits',\n 'SuppressionPersonnel',\n 'EMSUnits',\n 'EMSPersonnel',\n 'OtherUnits',\n 'OtherPersonnel',\n 'FirstUnitOnScene',\n 'EstimatedPropertyLoss',\n 'EstimatedContentsLoss',\n 'FireFatalities',\n 'FireInjuries',\n 'CivilianFatalities',\n 'CivilianInjuries',\n 'NumberofAlarms',\n 'PrimarySituation',\n 'MutualAid',\n 'ActionTakenPrimary',\n 'ActionTakenSecondary',\n 'ActionTakenOther',\n 'DetectorAlertedOccupants',\n 'PropertyUse',\n 'AreaofFireOrigin',\n 'IgnitionCause',\n 'IgnitionFactorPrimary',\n 'IgnitionFactorSecondary',\n 'HeatSource',\n 'ItemFirstIgnited',\n 'HumanFactorsAssociatedwithIgnition',\n 'StructureType',\n 'StructureStatus',\n 'FloorofFireOrigin',\n 'FireSpread',\n 'NoFlameSpead',\n 'Numberoffloorswithminimumdamage',\n 'Numberoffloorswithsignificantdamage',\n 'Numberoffloorswithheavydamage',\n 'Numberoffloorswithextremedamage',\n 'DetectorsPresent',\n 'DetectorType',\n 'DetectorOperation',\n 'DetectorEffectiveness',\n 'DetectorFailureReason',\n 'AutomaticExtinguishingSystemPresent',\n 'AutomaticExtinguishingSytemType',\n 'AutomaticExtinguishingSytemPerfomance',\n 'AutomaticExtinguishingSytemFailureReason',\n 'NumberofSprinklerHeadsOperating',\n 'SupervisorDistrict',\n 'AnalysisNeighborhood',\n 'point',\n 'NeighborhoodsOld',\n 'ZipCodes',\n 'FirePreventionDistricts',\n 'PoliceDistricts',\n 'SupervisorDistricts',\n 'CivicCenterHarmReductionProjectBoundary',\n '2017FixItZones',\n 'HSOCZones',\n 'CentralMarketTenderloinBoundary',\n 'CentralMarketTenderloinBoundaryPolygonUpdated',\n 'HSOCZonesasof20180605',\n 'Neighborhoods',\n 'SFFindNeighborhoods',\n 'CurrentPoliceDistricts',\n 'CurrentSupervisorDistricts',\n 'AnalysisNeighborhoods']"
     },
     "execution_count": 21,
     "metadata": {},
     "output_type": "execute_result"
    }
   ],
   "source": [
    "fire_df.columns"
   ],
   "metadata": {
    "collapsed": false,
    "pycharm": {
     "name": "#%%\n"
    }
   }
  },
  {
   "cell_type": "code",
   "execution_count": 23,
   "outputs": [],
   "source": [
    "output_path = \"./data/output/fire-incidents\"\n",
    "fire_df.write\\\n",
    "      .format(\"parquet\")\\\n",
    "      .mode(\"overwrite\")\\\n",
    "      .save(output_path)"
   ],
   "metadata": {
    "collapsed": false,
    "pycharm": {
     "name": "#%%\n"
    }
   }
  },
  {
   "cell_type": "code",
   "execution_count": null,
   "outputs": [],
   "source": [],
   "metadata": {
    "collapsed": false,
    "pycharm": {
     "name": "#%%\n"
    }
   }
  }
 ],
 "metadata": {
  "kernelspec": {
   "display_name": "Python 3",
   "language": "python",
   "name": "python3"
  },
  "language_info": {
   "codemirror_mode": {
    "name": "ipython",
    "version": 3
   },
   "file_extension": ".py",
   "mimetype": "text/x-python",
   "name": "python",
   "nbconvert_exporter": "python",
   "pygments_lexer": "ipython3",
   "version": "3.9.1"
  }
 },
 "nbformat": 4,
 "nbformat_minor": 5
}