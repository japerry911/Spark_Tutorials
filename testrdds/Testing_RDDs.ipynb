{
 "cells": [
  {
   "cell_type": "code",
   "execution_count": 1,
   "id": "c03740e4",
   "metadata": {},
   "outputs": [],
   "source": [
    "from pyspark.sql import SparkSession\n",
    "\n",
    "spark = SparkSession.builder.appName(\"TestingRDDs\").getOrCreate()"
   ]
  },
  {
   "cell_type": "code",
   "execution_count": 3,
   "id": "1fcaf620",
   "metadata": {},
   "outputs": [],
   "source": [
    "words_list = \"Spark makes life a lot easier and puts me into good Spirits, Spark is cool!\"\\\n",
    "                .split(\" \")"
   ]
  },
  {
   "cell_type": "code",
   "execution_count": 4,
   "id": "f3f759d4",
   "metadata": {},
   "outputs": [
    {
     "data": {
      "text/plain": [
       "list"
      ]
     },
     "execution_count": 4,
     "metadata": {},
     "output_type": "execute_result"
    }
   ],
   "source": [
    "type(words_list)"
   ]
  },
  {
   "cell_type": "code",
   "execution_count": 5,
   "id": "9119dfd7",
   "metadata": {},
   "outputs": [
    {
     "data": {
      "text/plain": [
       "['Spark',\n",
       " 'makes',\n",
       " 'life',\n",
       " 'a',\n",
       " 'lot',\n",
       " 'easier',\n",
       " 'and',\n",
       " 'puts',\n",
       " 'me',\n",
       " 'into',\n",
       " 'good',\n",
       " 'Spirits,',\n",
       " 'Spark',\n",
       " 'is',\n",
       " 'cool!']"
      ]
     },
     "execution_count": 5,
     "metadata": {},
     "output_type": "execute_result"
    }
   ],
   "source": [
    "words_list"
   ]
  },
  {
   "cell_type": "code",
   "execution_count": 6,
   "id": "867d6d83",
   "metadata": {},
   "outputs": [],
   "source": [
    "words_rdd = spark.sparkContext.parallelize(words_list)"
   ]
  },
  {
   "cell_type": "code",
   "execution_count": 7,
   "id": "3d9dc47a",
   "metadata": {},
   "outputs": [
    {
     "data": {
      "text/plain": [
       "ParallelCollectionRDD[0] at readRDDFromFile at PythonRDD.scala:262"
      ]
     },
     "execution_count": 7,
     "metadata": {},
     "output_type": "execute_result"
    }
   ],
   "source": [
    "words_rdd"
   ]
  },
  {
   "cell_type": "code",
   "execution_count": null,
   "id": "56352890",
   "metadata": {},
   "outputs": [],
   "source": []
  }
 ],
 "metadata": {
  "kernelspec": {
   "display_name": "Python 3",
   "language": "python",
   "name": "python3"
  },
  "language_info": {
   "codemirror_mode": {
    "name": "ipython",
    "version": 3
   },
   "file_extension": ".py",
   "mimetype": "text/x-python",
   "name": "python",
   "nbconvert_exporter": "python",
   "pygments_lexer": "ipython3",
   "version": "3.9.1"
  }
 },
 "nbformat": 4,
 "nbformat_minor": 5
}
