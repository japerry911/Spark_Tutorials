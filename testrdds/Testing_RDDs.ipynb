{
 "cells": [
  {
   "cell_type": "code",
   "execution_count": 1,
   "id": "c5aa5a1b",
   "metadata": {},
   "outputs": [],
   "source": [
    "from pyspark.sql import SparkSession\n",
    "\n",
    "spark = SparkSession.builder.appName(\"TestingRDDs\").getOrCreate()"
   ]
  },
  {
   "cell_type": "code",
   "execution_count": 12,
   "id": "d3de155e",
   "metadata": {},
   "outputs": [],
   "source": [
    "words_list = \"Spark makes life a lot easier and puts me into good Spirits, Spark is too cool!\"\\\n",
    "                .split(\" \")"
   ]
  },
  {
   "cell_type": "code",
   "execution_count": 13,
   "id": "7c7ce2bb",
   "metadata": {},
   "outputs": [
    {
     "data": {
      "text/plain": [
       "list"
      ]
     },
     "execution_count": 13,
     "metadata": {},
     "output_type": "execute_result"
    }
   ],
   "source": [
    "type(words_list)"
   ]
  },
  {
   "cell_type": "code",
   "execution_count": 14,
   "id": "d825ee33",
   "metadata": {},
   "outputs": [
    {
     "data": {
      "text/plain": [
       "['Spark',\n",
       " 'makes',\n",
       " 'life',\n",
       " 'a',\n",
       " 'lot',\n",
       " 'easier',\n",
       " 'and',\n",
       " 'puts',\n",
       " 'me',\n",
       " 'into',\n",
       " 'good',\n",
       " 'Spirits,',\n",
       " 'Spark',\n",
       " 'is',\n",
       " 'too',\n",
       " 'cool!']"
      ]
     },
     "execution_count": 14,
     "metadata": {},
     "output_type": "execute_result"
    }
   ],
   "source": [
    "words_list"
   ]
  },
  {
   "cell_type": "code",
   "execution_count": 15,
   "id": "71cdbe77",
   "metadata": {},
   "outputs": [],
   "source": [
    "words_rdd = spark.sparkContext.parallelize(words_list)"
   ]
  },
  {
   "cell_type": "code",
   "execution_count": 16,
   "id": "64e524d2",
   "metadata": {},
   "outputs": [],
   "source": [
    "words_data = words_rdd.collect()"
   ]
  },
  {
   "cell_type": "code",
   "execution_count": 17,
   "id": "5d5c9261",
   "metadata": {},
   "outputs": [
    {
     "name": "stdout",
     "output_type": "stream",
     "text": [
      "Spark\n",
      "makes\n",
      "life\n",
      "a\n",
      "lot\n",
      "easier\n",
      "and\n",
      "puts\n",
      "me\n",
      "into\n",
      "good\n",
      "Spirits,\n",
      "Spark\n",
      "is\n",
      "too\n",
      "cool!\n"
     ]
    }
   ],
   "source": [
    "for word in words_data:\n",
    "    print(word)"
   ]
  },
  {
   "cell_type": "code",
   "execution_count": 18,
   "id": "353be3a3",
   "metadata": {},
   "outputs": [
    {
     "data": {
      "text/plain": [
       "16"
      ]
     },
     "execution_count": 18,
     "metadata": {},
     "output_type": "execute_result"
    }
   ],
   "source": [
    "words_rdd.count()"
   ]
  },
  {
   "cell_type": "code",
   "execution_count": 19,
   "id": "0a69577d",
   "metadata": {},
   "outputs": [
    {
     "data": {
      "text/plain": [
       "15"
      ]
     },
     "execution_count": 19,
     "metadata": {},
     "output_type": "execute_result"
    }
   ],
   "source": [
    "words_rdd.distinct().count()"
   ]
  },
  {
   "cell_type": "code",
   "execution_count": 20,
   "id": "78f6e0fe",
   "metadata": {},
   "outputs": [
    {
     "data": {
      "text/plain": [
       "16"
      ]
     },
     "execution_count": 20,
     "metadata": {},
     "output_type": "execute_result"
    }
   ],
   "source": [
    "words_rdd.count()"
   ]
  },
  {
   "cell_type": "code",
   "execution_count": 21,
   "id": "ad0f3cb6",
   "metadata": {},
   "outputs": [
    {
     "name": "stdout",
     "output_type": "stream",
     "text": [
      "Spark\n",
      "makes\n",
      "life\n",
      "a\n",
      "lot\n",
      "easier\n",
      "and\n",
      "puts\n",
      "me\n",
      "into\n",
      "good\n",
      "Spirits,\n",
      "Spark\n",
      "is\n",
      "too\n",
      "cool!\n"
     ]
    }
   ],
   "source": [
    "words_data = words_rdd.collect()\n",
    "\n",
    "for word in words_data:\n",
    "    print(word)"
   ]
  },
  {
   "cell_type": "code",
   "execution_count": 22,
   "id": "6c7edef7",
   "metadata": {},
   "outputs": [],
   "source": [
    "words_unique_rdd = words_rdd.distinct()"
   ]
  },
  {
   "cell_type": "code",
   "execution_count": 23,
   "id": "434f36fc",
   "metadata": {},
   "outputs": [
    {
     "name": "stdout",
     "output_type": "stream",
     "text": [
      "good\n",
      "makes\n",
      "life\n",
      "a\n",
      "lot\n",
      "puts\n",
      "Spark\n",
      "Spirits,\n",
      "easier\n",
      "too\n",
      "cool!\n",
      "and\n",
      "into\n",
      "is\n",
      "me\n"
     ]
    }
   ],
   "source": [
    "for word in words_unique_rdd.collect():\n",
    "    print(word)"
   ]
  },
  {
   "cell_type": "code",
   "execution_count": 24,
   "id": "428db8ae",
   "metadata": {},
   "outputs": [],
   "source": [
    "def wordStartsWith(word, letter):\n",
    "    return word.startswith(letter)"
   ]
  },
  {
   "cell_type": "code",
   "execution_count": 25,
   "id": "93dec0db",
   "metadata": {},
   "outputs": [
    {
     "data": {
      "text/plain": [
       "True"
      ]
     },
     "execution_count": 25,
     "metadata": {},
     "output_type": "execute_result"
    }
   ],
   "source": [
    "test = \"test\"\n",
    "wordStartsWith(test, \"t\")"
   ]
  },
  {
   "cell_type": "code",
   "execution_count": 26,
   "id": "f0dc4ea8",
   "metadata": {},
   "outputs": [
    {
     "data": {
      "text/plain": [
       "['Spark', 'Spirits,', 'Spark']"
      ]
     },
     "execution_count": 26,
     "metadata": {},
     "output_type": "execute_result"
    }
   ],
   "source": [
    "words_rdd.filter(lambda word: wordStartsWith(word, \"S\")).collect()"
   ]
  },
  {
   "cell_type": "code",
   "execution_count": 30,
   "id": "22226045",
   "metadata": {},
   "outputs": [
    {
     "data": {
      "text/plain": [
       "['Spark', 'Spirits,']"
      ]
     },
     "execution_count": 30,
     "metadata": {},
     "output_type": "execute_result"
    }
   ],
   "source": [
    "words_unique_rdd.filter(lambda word: wordStartsWith(word, \"S\")).collect()"
   ]
  },
  {
   "cell_type": "code",
   "execution_count": 31,
   "id": "f09504a4",
   "metadata": {},
   "outputs": [],
   "source": [
    "countries_list = [(\"India\", 91), (\"USA\", 4), (\"Greece\", 14)]\n",
    "\n",
    "countries_rdd = spark.sparkContext.parallelize(countries_list)"
   ]
  },
  {
   "cell_type": "code",
   "execution_count": 32,
   "id": "a5ede81b",
   "metadata": {},
   "outputs": [],
   "source": [
    "srted_countries_list = countries_rdd.sortByKey().collect()"
   ]
  },
  {
   "cell_type": "code",
   "execution_count": 33,
   "id": "d020c10e",
   "metadata": {},
   "outputs": [
    {
     "name": "stdout",
     "output_type": "stream",
     "text": [
      "('Greece', 14)\n",
      "('India', 91)\n",
      "('USA', 4)\n"
     ]
    }
   ],
   "source": [
    "for country in srted_countries_list:\n",
    "    print(country)"
   ]
  },
  {
   "cell_type": "code",
   "execution_count": 34,
   "id": "a7ce358c",
   "metadata": {},
   "outputs": [],
   "source": [
    "srted_countries_list = countries_rdd.map(lambda c: (c[1], c[0])).sortByKey(False).collect()"
   ]
  },
  {
   "cell_type": "code",
   "execution_count": 35,
   "id": "0ad58b5d",
   "metadata": {},
   "outputs": [
    {
     "name": "stdout",
     "output_type": "stream",
     "text": [
      "(91, 'India')\n",
      "(14, 'Greece')\n",
      "(4, 'USA')\n"
     ]
    }
   ],
   "source": [
    "for country in srted_countries_list:\n",
    "    print(country)"
   ]
  },
  {
   "cell_type": "code",
   "execution_count": null,
   "id": "41c27fd2",
   "metadata": {},
   "outputs": [],
   "source": []
  }
 ],
 "metadata": {
  "kernelspec": {
   "display_name": "Python 3",
   "language": "python",
   "name": "python3"
  },
  "language_info": {
   "codemirror_mode": {
    "name": "ipython",
    "version": 3
   },
   "file_extension": ".py",
   "mimetype": "text/x-python",
   "name": "python",
   "nbconvert_exporter": "python",
   "pygments_lexer": "ipython3",
   "version": "3.9.1"
  }
 },
 "nbformat": 4,
 "nbformat_minor": 5
}
