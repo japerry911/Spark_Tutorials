{
 "cells": [
  {
   "cell_type": "code",
   "execution_count": 1,
   "id": "9f2b2115",
   "metadata": {},
   "outputs": [],
   "source": [
    "from pyspark.sql import SparkSession"
   ]
  },
  {
   "cell_type": "code",
   "execution_count": 14,
   "id": "31f69477",
   "metadata": {},
   "outputs": [],
   "source": [
    "spark = SparkSession.builder.appName(\"XYZ_Research\").getOrCreate()\n",
    "\n",
    "data2001List = ['RIN1', 'RIN2', 'RIN3', 'RIN4', 'RIN5', 'RIN6', 'RIN7']\n",
    "data2002List = ['RIN3', 'RIN4', 'RIN7', 'RIN8', 'RIN9']\n",
    "data2003List = ['RIN4', 'RIN8', 'RIN10', 'RIN11', 'RIN12']"
   ]
  },
  {
   "cell_type": "markdown",
   "id": "2a1a7fea",
   "metadata": {},
   "source": [
    "##### Find how many research projects were initiated in the 3 years"
   ]
  },
  {
   "cell_type": "code",
   "execution_count": 15,
   "id": "9c49759b",
   "metadata": {},
   "outputs": [],
   "source": [
    "data2001RDD = spark.sparkContext.parallelize(data2001List)\n",
    "data2002RDD = spark.sparkContext.parallelize(data2002List)\n",
    "data2003RDD = spark.sparkContext.parallelize(data2003List)"
   ]
  },
  {
   "cell_type": "code",
   "execution_count": 17,
   "id": "15750d36",
   "metadata": {},
   "outputs": [
    {
     "data": {
      "text/plain": [
       "['RIN1',\n",
       " 'RIN2',\n",
       " 'RIN3',\n",
       " 'RIN4',\n",
       " 'RIN5',\n",
       " 'RIN6',\n",
       " 'RIN7',\n",
       " 'RIN3',\n",
       " 'RIN4',\n",
       " 'RIN7',\n",
       " 'RIN8',\n",
       " 'RIN9']"
      ]
     },
     "execution_count": 17,
     "metadata": {},
     "output_type": "execute_result"
    }
   ],
   "source": [
    "union_of_2001_2002_rdd = data2001RDD.union(data2002RDD)\n",
    "union_of_2001_2002_rdd.collect()"
   ]
  },
  {
   "cell_type": "code",
   "execution_count": 21,
   "id": "5dccb625",
   "metadata": {},
   "outputs": [
    {
     "data": {
      "text/plain": [
       "['RIN4',\n",
       " 'RIN10',\n",
       " 'RIN2',\n",
       " 'RIN5',\n",
       " 'RIN11',\n",
       " 'RIN6',\n",
       " 'RIN1',\n",
       " 'RIN9',\n",
       " 'RIN12',\n",
       " 'RIN3',\n",
       " 'RIN8',\n",
       " 'RIN7']"
      ]
     },
     "execution_count": 21,
     "metadata": {},
     "output_type": "execute_result"
    }
   ],
   "source": [
    "all_research_rdd = union_of_2001_2002_rdd.union(data2003RDD).distinct()\n",
    "all_research_rdd.collect()"
   ]
  },
  {
   "cell_type": "code",
   "execution_count": 22,
   "id": "a81cddc4",
   "metadata": {},
   "outputs": [
    {
     "data": {
      "text/plain": [
       "12"
      ]
     },
     "execution_count": 22,
     "metadata": {},
     "output_type": "execute_result"
    }
   ],
   "source": [
    "all_research_rdd.count()"
   ]
  },
  {
   "cell_type": "code",
   "execution_count": 24,
   "id": "085c0424",
   "metadata": {},
   "outputs": [
    {
     "data": {
      "text/plain": [
       "['RIN6', 'RIN2', 'RIN5', 'RIN1']"
      ]
     },
     "execution_count": 24,
     "metadata": {},
     "output_type": "execute_result"
    }
   ],
   "source": [
    "first_year_completion = data2001RDD.subtract(data2002RDD)\n",
    "first_year_completion.collect()"
   ]
  },
  {
   "cell_type": "code",
   "execution_count": 25,
   "id": "f90dea5a",
   "metadata": {},
   "outputs": [
    {
     "data": {
      "text/plain": [
       "['RIN1',\n",
       " 'RIN2',\n",
       " 'RIN3',\n",
       " 'RIN4',\n",
       " 'RIN5',\n",
       " 'RIN6',\n",
       " 'RIN7',\n",
       " 'RIN3',\n",
       " 'RIN4',\n",
       " 'RIN7',\n",
       " 'RIN8',\n",
       " 'RIN9']"
      ]
     },
     "execution_count": 25,
     "metadata": {},
     "output_type": "execute_result"
    }
   ],
   "source": [
    "union_two_years_rdd = data2001RDD.union(data2002RDD)\n",
    "union_two_years_rdd.collect()"
   ]
  },
  {
   "cell_type": "code",
   "execution_count": null,
   "id": "72d70094",
   "metadata": {},
   "outputs": [],
   "source": [
    "unio"
   ]
  }
 ],
 "metadata": {
  "kernelspec": {
   "display_name": "Python 3",
   "language": "python",
   "name": "python3"
  },
  "language_info": {
   "codemirror_mode": {
    "name": "ipython",
    "version": 3
   },
   "file_extension": ".py",
   "mimetype": "text/x-python",
   "name": "python",
   "nbconvert_exporter": "python",
   "pygments_lexer": "ipython3",
   "version": "3.9.1"
  }
 },
 "nbformat": 4,
 "nbformat_minor": 5
}
